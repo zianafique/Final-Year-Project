{
 "cells": [
  {
   "cell_type": "code",
   "execution_count": 209,
   "metadata": {
    "colab": {},
    "colab_type": "code",
    "id": "eb1MMVSvKPDr"
   },
   "outputs": [],
   "source": [
    " !pip install -q keras"
   ]
  },
  {
   "cell_type": "code",
   "execution_count": 2,
   "metadata": {
    "colab": {},
    "colab_type": "code",
    "id": "1UR0q_OOKxUZ"
   },
   "outputs": [
    {
     "name": "stderr",
     "output_type": "stream",
     "text": [
      "Using TensorFlow backend.\n"
     ]
    }
   ],
   "source": [
    "import keras"
   ]
  },
  {
   "cell_type": "code",
   "execution_count": 4,
   "metadata": {
    "colab": {},
    "colab_type": "code",
    "id": "hVzcwoFdK0A6"
   },
   "outputs": [],
   "source": [
    "import os \n",
    "import numpy as np \n",
    "import cv2\n",
    "import matplotlib.pyplot as plt\n",
    "import pickle\n",
    "import random\n",
    "from sklearn.model_selection import train_test_split\n",
    "from sklearn.svm import SVC\n"
   ]
  },
  {
   "cell_type": "code",
   "execution_count": 5,
   "metadata": {
    "colab": {},
    "colab_type": "code",
    "id": "7ssCc72sLLJI"
   },
   "outputs": [],
   "source": [
    "\n",
    "dir = 'C:\\\\Users\\\\Nasik\\\\Desktop\\\\Semester 6\\\\FYP\\\\dataset-resized'"
   ]
  },
  {
   "cell_type": "code",
   "execution_count": 6,
   "metadata": {
    "colab": {},
    "colab_type": "code",
    "id": "VULcphNPLRSS"
   },
   "outputs": [],
   "source": [
    "categories = ['cardboard','glass','metal','paper','plastic','trash']"
   ]
  },
  {
   "cell_type": "code",
   "execution_count": 7,
   "metadata": {
    "colab": {},
    "colab_type": "code",
    "id": "mrEvj70bLTEz"
   },
   "outputs": [],
   "source": [
    "data = [ ]"
   ]
  },
  {
   "cell_type": "code",
   "execution_count": 8,
   "metadata": {
    "colab": {
     "base_uri": "https://localhost:8080/",
     "height": 34
    },
    "colab_type": "code",
    "id": "ncp_yIxpLUnY",
    "outputId": "4b5d348d-9567-48fe-e821-1c6b746177e2"
   },
   "outputs": [
    {
     "name": "stdout",
     "output_type": "stream",
     "text": [
      "2527\n"
     ]
    }
   ],
   "source": [
    "for category in categories:\n",
    "    path = os.path.join(dir,category)\n",
    "    label=categories.index(category)\n",
    "    \n",
    "    for img in os.listdir(path):\n",
    "        imgpath = os.path.join(path,img)\n",
    "        trash_img = cv2.imread(imgpath,0)\n",
    "        try:\n",
    "            trash_img = cv2.resize(trash_img,(50,50))\n",
    "            image=np.array(trash_img).flatten()\n",
    "            data.append([image,label])\n",
    "        except Exception as e:\n",
    "            pass\n",
    "print(len(data))    \n"
   ]
  },
  {
   "cell_type": "code",
   "execution_count": 9,
   "metadata": {
    "colab": {},
    "colab_type": "code",
    "id": "Y5WdMcdVL8fG"
   },
   "outputs": [],
   "source": [
    "pick_in= open('data1.pickle','wb')\n",
    "pickle.dump(data,pick_in)\n",
    "pick_in.close()\n"
   ]
  },
  {
   "cell_type": "code",
   "execution_count": 10,
   "metadata": {
    "colab": {},
    "colab_type": "code",
    "id": "z3iNWyCxeQMl"
   },
   "outputs": [],
   "source": [
    "pick_in= open('data1.pickle','rb')\n",
    "data=pickle.load(pick_in)\n",
    "pick_in.close()\n"
   ]
  },
  {
   "cell_type": "code",
   "execution_count": 11,
   "metadata": {
    "colab": {},
    "colab_type": "code",
    "id": "tFQTkWEueWAP"
   },
   "outputs": [],
   "source": [
    "\n",
    "random.shuffle(data)\n",
    "features = []\n",
    "labels=[]\n"
   ]
  },
  {
   "cell_type": "code",
   "execution_count": 12,
   "metadata": {
    "colab": {},
    "colab_type": "code",
    "id": "PL2v37xCeXix"
   },
   "outputs": [],
   "source": [
    "for feature, label in data:\n",
    "    features.append(feature)\n",
    "    labels.append(label)\n"
   ]
  },
  {
   "cell_type": "code",
   "execution_count": 20,
   "metadata": {
    "colab": {},
    "colab_type": "code",
    "id": "2CXd7FU9eZTl"
   },
   "outputs": [],
   "source": [
    "xtrain, xtest, ytrain,ytest = train_test_split (features, labels, train_size=0.80, test_size=0.20)\n"
   ]
  },
  {
   "cell_type": "code",
   "execution_count": 14,
   "metadata": {
    "colab": {
     "base_uri": "https://localhost:8080/",
     "height": 84
    },
    "colab_type": "code",
    "id": "bidHHFIWecgO",
    "outputId": "a607b6df-e622-4361-85c6-bf3a8d5af39c"
   },
   "outputs": [
    {
     "data": {
      "text/plain": [
       "SVC(C=1, break_ties=False, cache_size=200, class_weight=None, coef0=0.0,\n",
       "    decision_function_shape='ovr', degree=3, gamma='auto', kernel='poly',\n",
       "    max_iter=-1, probability=False, random_state=None, shrinking=True,\n",
       "    tol=0.001, verbose=False)"
      ]
     },
     "execution_count": 14,
     "metadata": {},
     "output_type": "execute_result"
    }
   ],
   "source": [
    "model= SVC(C=1,kernel='poly', gamma='auto')\n",
    "model.fit(xtrain, ytrain)"
   ]
  },
  {
   "cell_type": "code",
   "execution_count": 16,
   "metadata": {
    "colab": {},
    "colab_type": "code",
    "id": "i9Fh3uV5hpqc"
   },
   "outputs": [],
   "source": [
    "pick= open('model1.sav','wb')\n",
    "pickle.dump(model,pick)\n",
    "pick.close()\n"
   ]
  },
  {
   "cell_type": "code",
   "execution_count": 19,
   "metadata": {
    "colab": {},
    "colab_type": "code",
    "id": "_fo2DHU-hp-c"
   },
   "outputs": [],
   "source": [
    "pick= open('model1.sav','rb')\n",
    "model=pickle.load(pick)\n",
    "pick.close()\n"
   ]
  },
  {
   "cell_type": "code",
   "execution_count": 21,
   "metadata": {
    "colab": {
     "base_uri": "https://localhost:8080/",
     "height": 301
    },
    "colab_type": "code",
    "id": "dqT7tx8tejQj",
    "outputId": "c7e3ca97-430c-42bb-e522-fb1f43071613"
   },
   "outputs": [
    {
     "name": "stdout",
     "output_type": "stream",
     "text": [
      "Accuracy :  0.8853754940711462\n",
      "Prediction is : trash\n"
     ]
    },
    {
     "data": {
      "image/png": "[encoded data removed]",
      "text/plain": [
       "<Figure size 432x288 with 1 Axes>"
      ]
     },
     "metadata": {
      "needs_background": "light"
     },
     "output_type": "display_data"
    }
   ],
   "source": [
    "random.shuffle(data)\n",
    "prediction= model.predict(xtest)\n",
    "accuracy = model.score (xtest, ytest)\n",
    "\n",
    "categories = ['cardboard','glass','metal','paper','plastic','trash']\n",
    "\n",
    "print('Accuracy : ', accuracy)\n",
    "print('Prediction is :',categories[prediction[0]])\n",
    "\n",
    "\n",
    "\n",
    "trash=xtest[0].reshape(50,50)\n",
    "plt.imshow(trash, cmap='gray')\n",
    "plt.show()\n",
    "\n",
    "  \n"
   ]
  },
  {
   "cell_type": "code",
   "execution_count": 208,
   "metadata": {},
   "outputs": [
    {
     "name": "stdout",
     "output_type": "stream",
     "text": [
      "[[  0  91   0   0   0   0]\n",
      " [  0 100   0   0   0   0]\n",
      " [  0  81   0   0   0   0]\n",
      " [  0 113   0   0   0   0]\n",
      " [  0  97   0   0   0   0]\n",
      " [  0  24   0   0   0   0]]\n",
      "              precision    recall  f1-score   support\n",
      "\n",
      "           0       0.00      0.00      0.00        91\n",
      "           1       0.20      1.00      0.33       100\n",
      "           2       0.00      0.00      0.00        81\n",
      "           3       0.00      0.00      0.00       113\n",
      "           4       0.00      0.00      0.00        97\n",
      "           5       0.00      0.00      0.00        24\n",
      "\n",
      "    accuracy                           0.20       506\n",
      "   macro avg       0.03      0.17      0.06       506\n",
      "weighted avg       0.04      0.20      0.07       506\n",
      "\n"
     ]
    },
    {
     "name": "stderr",
     "output_type": "stream",
     "text": [
      "C:\\Users\\Nasik\\Anaconda3\\lib\\site-packages\\sklearn\\metrics\\_classification.py:1272: UndefinedMetricWarning: Precision and F-score are ill-defined and being set to 0.0 in labels with no predicted samples. Use `zero_division` parameter to control this behavior.\n",
      "  _warn_prf(average, modifier, msg_start, len(result))\n"
     ]
    }
   ],
   "source": [
    "#CONFUSION MATRIX\n",
    "from sklearn.svm import SVC\n",
    "predictions = model.predict(xtest)\n",
    "from sklearn.metrics import classification_report,confusion_matrix\n",
    "print(confusion_matrix(ytest, predictions))\n",
    "print(classification_report(ytest, predictions))"
   ]
  },
  {
   "cell_type": "code",
   "execution_count": 98,
   "metadata": {},
   "outputs": [
    {
     "name": "stdout",
     "output_type": "stream",
     "text": [
      "Fitting 5 folds for each of 16 candidates, totalling 80 fits\n",
      "[CV] C=0.1, gamma=1 ..................................................\n"
     ]
    },
    {
     "name": "stderr",
     "output_type": "stream",
     "text": [
      "[Parallel(n_jobs=1)]: Using backend SequentialBackend with 1 concurrent workers.\n"
     ]
    },
    {
     "name": "stdout",
     "output_type": "stream",
     "text": [
      "[CV] ................................... C=0.1, gamma=1, total=  16.8s\n",
      "[CV] C=0.1, gamma=1 ..................................................\n"
     ]
    },
    {
     "name": "stderr",
     "output_type": "stream",
     "text": [
      "[Parallel(n_jobs=1)]: Done   1 out of   1 | elapsed:   16.7s remaining:    0.0s\n"
     ]
    },
    {
     "name": "stdout",
     "output_type": "stream",
     "text": [
      "[CV] ................................... C=0.1, gamma=1, total=  16.5s\n",
      "[CV] C=0.1, gamma=1 ..................................................\n",
      "[CV] ................................... C=0.1, gamma=1, total=  16.6s\n",
      "[CV] C=0.1, gamma=1 ..................................................\n",
      "[CV] ................................... C=0.1, gamma=1, total=  16.9s\n",
      "[CV] C=0.1, gamma=1 ..................................................\n",
      "[CV] ................................... C=0.1, gamma=1, total=  16.9s\n",
      "[CV] C=0.1, gamma=0.1 ................................................\n",
      "[CV] ................................. C=0.1, gamma=0.1, total=  16.6s\n",
      "[CV] C=0.1, gamma=0.1 ................................................\n",
      "[CV] ................................. C=0.1, gamma=0.1, total=  16.5s\n",
      "[CV] C=0.1, gamma=0.1 ................................................\n",
      "[CV] ................................. C=0.1, gamma=0.1, total=  16.6s\n",
      "[CV] C=0.1, gamma=0.1 ................................................\n",
      "[CV] ................................. C=0.1, gamma=0.1, total=  16.7s\n",
      "[CV] C=0.1, gamma=0.1 ................................................\n",
      "[CV] ................................. C=0.1, gamma=0.1, total=  16.8s\n",
      "[CV] C=0.1, gamma=0.01 ...............................................\n",
      "[CV] ................................ C=0.1, gamma=0.01, total=  18.8s\n",
      "[CV] C=0.1, gamma=0.01 ...............................................\n",
      "[CV] ................................ C=0.1, gamma=0.01, total=  19.4s\n",
      "[CV] C=0.1, gamma=0.01 ...............................................\n",
      "[CV] ................................ C=0.1, gamma=0.01, total=  16.6s\n",
      "[CV] C=0.1, gamma=0.01 ...............................................\n",
      "[CV] ................................ C=0.1, gamma=0.01, total=  16.8s\n",
      "[CV] C=0.1, gamma=0.01 ...............................................\n",
      "[CV] ................................ C=0.1, gamma=0.01, total=  17.3s\n",
      "[CV] C=0.1, gamma=0.001 ..............................................\n",
      "[CV] ............................... C=0.1, gamma=0.001, total=  16.6s\n",
      "[CV] C=0.1, gamma=0.001 ..............................................\n",
      "[CV] ............................... C=0.1, gamma=0.001, total=  16.9s\n",
      "[CV] C=0.1, gamma=0.001 ..............................................\n",
      "[CV] ............................... C=0.1, gamma=0.001, total=  16.5s\n",
      "[CV] C=0.1, gamma=0.001 ..............................................\n",
      "[CV] ............................... C=0.1, gamma=0.001, total=  16.6s\n",
      "[CV] C=0.1, gamma=0.001 ..............................................\n",
      "[CV] ............................... C=0.1, gamma=0.001, total=  16.6s\n",
      "[CV] C=1, gamma=1 ....................................................\n",
      "[CV] ..................................... C=1, gamma=1, total=  16.7s\n",
      "[CV] C=1, gamma=1 ....................................................\n",
      "[CV] ..................................... C=1, gamma=1, total=  16.6s\n",
      "[CV] C=1, gamma=1 ....................................................\n",
      "[CV] ..................................... C=1, gamma=1, total=  16.7s\n",
      "[CV] C=1, gamma=1 ....................................................\n",
      "[CV] ..................................... C=1, gamma=1, total=  16.6s\n",
      "[CV] C=1, gamma=1 ....................................................\n",
      "[CV] ..................................... C=1, gamma=1, total=  16.6s\n",
      "[CV] C=1, gamma=0.1 ..................................................\n",
      "[CV] ................................... C=1, gamma=0.1, total=  16.6s\n",
      "[CV] C=1, gamma=0.1 ..................................................\n",
      "[CV] ................................... C=1, gamma=0.1, total=  16.6s\n",
      "[CV] C=1, gamma=0.1 ..................................................\n",
      "[CV] ................................... C=1, gamma=0.1, total=  16.6s\n",
      "[CV] C=1, gamma=0.1 ..................................................\n",
      "[CV] ................................... C=1, gamma=0.1, total=  16.6s\n",
      "[CV] C=1, gamma=0.1 ..................................................\n",
      "[CV] ................................... C=1, gamma=0.1, total=  16.9s\n",
      "[CV] C=1, gamma=0.01 .................................................\n",
      "[CV] .................................. C=1, gamma=0.01, total=  16.6s\n",
      "[CV] C=1, gamma=0.01 .................................................\n",
      "[CV] .................................. C=1, gamma=0.01, total=  16.6s\n",
      "[CV] C=1, gamma=0.01 .................................................\n",
      "[CV] .................................. C=1, gamma=0.01, total=  16.7s\n",
      "[CV] C=1, gamma=0.01 .................................................\n",
      "[CV] .................................. C=1, gamma=0.01, total=  17.0s\n",
      "[CV] C=1, gamma=0.01 .................................................\n",
      "[CV] .................................. C=1, gamma=0.01, total=  16.7s\n",
      "[CV] C=1, gamma=0.001 ................................................\n",
      "[CV] ................................. C=1, gamma=0.001, total=  16.6s\n",
      "[CV] C=1, gamma=0.001 ................................................\n",
      "[CV] ................................. C=1, gamma=0.001, total=  17.0s\n",
      "[CV] C=1, gamma=0.001 ................................................\n",
      "[CV] ................................. C=1, gamma=0.001, total=  17.7s\n",
      "[CV] C=1, gamma=0.001 ................................................\n",
      "[CV] ................................. C=1, gamma=0.001, total=  16.6s\n",
      "[CV] C=1, gamma=0.001 ................................................\n",
      "[CV] ................................. C=1, gamma=0.001, total=  16.6s\n",
      "[CV] C=10, gamma=1 ...................................................\n",
      "[CV] .................................... C=10, gamma=1, total=  16.6s\n",
      "[CV] C=10, gamma=1 ...................................................\n",
      "[CV] .................................... C=10, gamma=1, total=  16.6s\n",
      "[CV] C=10, gamma=1 ...................................................\n",
      "[CV] .................................... C=10, gamma=1, total=  16.6s\n",
      "[CV] C=10, gamma=1 ...................................................\n",
      "[CV] .................................... C=10, gamma=1, total=  16.6s\n",
      "[CV] C=10, gamma=1 ...................................................\n",
      "[CV] .................................... C=10, gamma=1, total=  16.8s\n",
      "[CV] C=10, gamma=0.1 .................................................\n",
      "[CV] .................................. C=10, gamma=0.1, total=  16.6s\n",
      "[CV] C=10, gamma=0.1 .................................................\n",
      "[CV] .................................. C=10, gamma=0.1, total=  16.6s\n",
      "[CV] C=10, gamma=0.1 .................................................\n",
      "[CV] .................................. C=10, gamma=0.1, total=  16.8s\n",
      "[CV] C=10, gamma=0.1 .................................................\n",
      "[CV] .................................. C=10, gamma=0.1, total=  16.6s\n",
      "[CV] C=10, gamma=0.1 .................................................\n",
      "[CV] .................................. C=10, gamma=0.1, total=  16.6s\n",
      "[CV] C=10, gamma=0.01 ................................................\n",
      "[CV] ................................. C=10, gamma=0.01, total=  16.6s\n",
      "[CV] C=10, gamma=0.01 ................................................\n",
      "[CV] ................................. C=10, gamma=0.01, total=  16.6s\n",
      "[CV] C=10, gamma=0.01 ................................................\n",
      "[CV] ................................. C=10, gamma=0.01, total=  16.6s\n",
      "[CV] C=10, gamma=0.01 ................................................\n",
      "[CV] ................................. C=10, gamma=0.01, total=  16.6s\n",
      "[CV] C=10, gamma=0.01 ................................................\n",
      "[CV] ................................. C=10, gamma=0.01, total=  16.6s\n",
      "[CV] C=10, gamma=0.001 ...............................................\n",
      "[CV] ................................ C=10, gamma=0.001, total=  16.6s\n",
      "[CV] C=10, gamma=0.001 ...............................................\n",
      "[CV] ................................ C=10, gamma=0.001, total=  16.6s\n",
      "[CV] C=10, gamma=0.001 ...............................................\n",
      "[CV] ................................ C=10, gamma=0.001, total=  16.6s\n",
      "[CV] C=10, gamma=0.001 ...............................................\n",
      "[CV] ................................ C=10, gamma=0.001, total=  16.6s\n",
      "[CV] C=10, gamma=0.001 ...............................................\n",
      "[CV] ................................ C=10, gamma=0.001, total=  16.6s\n",
      "[CV] C=100, gamma=1 ..................................................\n",
      "[CV] ................................... C=100, gamma=1, total=  16.6s\n",
      "[CV] C=100, gamma=1 ..................................................\n",
      "[CV] ................................... C=100, gamma=1, total=  16.6s\n",
      "[CV] C=100, gamma=1 ..................................................\n",
      "[CV] ................................... C=100, gamma=1, total=  16.7s\n",
      "[CV] C=100, gamma=1 ..................................................\n",
      "[CV] ................................... C=100, gamma=1, total=  17.1s\n",
      "[CV] C=100, gamma=1 ..................................................\n",
      "[CV] ................................... C=100, gamma=1, total=  17.0s\n",
      "[CV] C=100, gamma=0.1 ................................................\n",
      "[CV] ................................. C=100, gamma=0.1, total=  17.4s\n",
      "[CV] C=100, gamma=0.1 ................................................\n",
      "[CV] ................................. C=100, gamma=0.1, total=  17.0s\n",
      "[CV] C=100, gamma=0.1 ................................................\n",
      "[CV] ................................. C=100, gamma=0.1, total=  17.0s\n",
      "[CV] C=100, gamma=0.1 ................................................\n",
      "[CV] ................................. C=100, gamma=0.1, total=  17.0s\n",
      "[CV] C=100, gamma=0.1 ................................................\n",
      "[CV] ................................. C=100, gamma=0.1, total=  17.0s\n",
      "[CV] C=100, gamma=0.01 ...............................................\n",
      "[CV] ................................ C=100, gamma=0.01, total=  17.0s\n",
      "[CV] C=100, gamma=0.01 ...............................................\n",
      "[CV] ................................ C=100, gamma=0.01, total=  17.0s\n",
      "[CV] C=100, gamma=0.01 ...............................................\n",
      "[CV] ................................ C=100, gamma=0.01, total=  17.0s\n",
      "[CV] C=100, gamma=0.01 ...............................................\n",
      "[CV] ................................ C=100, gamma=0.01, total=  17.0s\n",
      "[CV] C=100, gamma=0.01 ...............................................\n",
      "[CV] ................................ C=100, gamma=0.01, total=  17.0s\n",
      "[CV] C=100, gamma=0.001 ..............................................\n",
      "[CV] ............................... C=100, gamma=0.001, total=  17.0s\n",
      "[CV] C=100, gamma=0.001 ..............................................\n",
      "[CV] ............................... C=100, gamma=0.001, total=  17.0s\n",
      "[CV] C=100, gamma=0.001 ..............................................\n",
      "[CV] ............................... C=100, gamma=0.001, total=  17.0s\n",
      "[CV] C=100, gamma=0.001 ..............................................\n",
      "[CV] ............................... C=100, gamma=0.001, total=  17.0s\n",
      "[CV] C=100, gamma=0.001 ..............................................\n",
      "[CV] ............................... C=100, gamma=0.001, total=  17.0s\n"
     ]
    },
    {
     "name": "stderr",
     "output_type": "stream",
     "text": [
      "[Parallel(n_jobs=1)]: Done  80 out of  80 | elapsed: 22.4min finished\n"
     ]
    },
    {
     "data": {
      "text/plain": [
       "GridSearchCV(cv=None, error_score=nan,\n",
       "             estimator=SVC(C=1.0, break_ties=False, cache_size=200,\n",
       "                           class_weight=None, coef0=0.0,\n",
       "                           decision_function_shape='ovr', degree=3,\n",
       "                           gamma='scale', kernel='rbf', max_iter=-1,\n",
       "                           probability=False, random_state=None, shrinking=True,\n",
       "                           tol=0.001, verbose=False),\n",
       "             iid='deprecated', n_jobs=None,\n",
       "             param_grid={'C': [0.1, 1, 10, 100],\n",
       "                         'gamma': [1, 0.1, 0.01, 0.001]},\n",
       "             pre_dispatch='2*n_jobs', refit=True, return_train_score=False,\n",
       "             scoring=None, verbose=2)"
      ]
     },
     "execution_count": 98,
     "metadata": {},
     "output_type": "execute_result"
    }
   ],
   "source": [
    "#GRID SEARCH\n",
    "from sklearn.model_selection import GridSearchCV\n",
    "param_grid = {'C':[0.1,1,10,100],'gamma':[1,0.1,0.01,0.001]}\n",
    "grid = GridSearchCV(SVC(),param_grid,verbose=2)\n",
    "grid.fit(xtrain,ytrain)"
   ]
  },
  {
   "cell_type": "code",
   "execution_count": 99,
   "metadata": {},
   "outputs": [
    {
     "name": "stdout",
     "output_type": "stream",
     "text": [
      "[[  0   0   0  77   0   0]\n",
      " [  0   0   0 113   0   0]\n",
      " [  0   0   0  84   0   0]\n",
      " [  0   0   0 118   0   0]\n",
      " [  0   0   0  88   0   0]\n",
      " [  0   0   0  26   0   0]]\n",
      "              precision    recall  f1-score   support\n",
      "\n",
      "           0       0.83      0.88      0.86        77\n",
      "           1       0.85      0.87      0.86       113\n",
      "           2       0.91      0.88      0.90        84\n",
      "           3       0.95      0.88      0.92       118\n",
      "           4       0.85      0.92      0.89        88\n",
      "           5       0.88      0.81      0.84        26\n",
      "\n",
      "    accuracy                           0.88       506\n",
      "   macro avg       0.88      0.87      0.88       506\n",
      "weighted avg       0.88      0.88      0.88       506\n",
      "\n"
     ]
    }
   ],
   "source": [
    "\n",
    "grid_predictions = grid.predict(xtest)\n",
    "print(confusion_matrix(ytest,grid_predictions))\n",
    "print(classification_report(ytest, predictions))"
   ]
  },
  {
   "cell_type": "code",
   "execution_count": 207,
   "metadata": {},
   "outputs": [
    {
     "ename": "NameError",
     "evalue": "name 'grid' is not defined",
     "output_type": "error",
     "traceback": [
      "\u001b[1;31m---------------------------------------------------------------------------\u001b[0m",
      "\u001b[1;31mNameError\u001b[0m                                 Traceback (most recent call last)",
      "\u001b[1;32m<ipython-input-207-28c2e4d7952c>\u001b[0m in \u001b[0;36m<module>\u001b[1;34m\u001b[0m\n\u001b[1;32m----> 1\u001b[1;33m \u001b[0mgrid\u001b[0m\u001b[1;33m.\u001b[0m\u001b[0mbest_params_\u001b[0m\u001b[1;33m\u001b[0m\u001b[1;33m\u001b[0m\u001b[0m\n\u001b[0m",
      "\u001b[1;31mNameError\u001b[0m: name 'grid' is not defined"
     ]
    }
   ],
   "source": [
    "grid.best_params_"
   ]
  },
  {
   "cell_type": "code",
   "execution_count": null,
   "metadata": {},
   "outputs": [],
   "source": []
  },
  {
   "cell_type": "code",
   "execution_count": null,
   "metadata": {},
   "outputs": [],
   "source": []
  },
  {
   "cell_type": "code",
   "execution_count": null,
   "metadata": {},
   "outputs": [],
   "source": []
  },
  {
   "cell_type": "code",
   "execution_count": null,
   "metadata": {},
   "outputs": [],
   "source": []
  },
  {
   "cell_type": "code",
   "execution_count": 102,
   "metadata": {},
   "outputs": [
    {
     "data": {
      "text/plain": [
       "'we can see that the results for precision, recall,f1-score,support,weighted avg\\nmacro avg,accuracy all the results are exactly same for the before and after state\\nof the grid search. It took around 22 mins to execute the grid search.'"
      ]
     },
     "execution_count": 102,
     "metadata": {},
     "output_type": "execute_result"
    }
   ],
   "source": [
    "\"\"\"we can see that the results for precision, recall,f1-score,support,weighted avg\n",
    "macro avg,accuracy all the results are exactly same for the before and after state\n",
    "of the grid search. It took around 22 mins to execute the grid search.\"\"\""
   ]
  },
  {
   "cell_type": "code",
   "execution_count": 125,
   "metadata": {},
   "outputs": [
    {
     "name": "stdout",
     "output_type": "stream",
     "text": [
      "<class 'list'>\n"
     ]
    }
   ],
   "source": [
    "print (type(data))"
   ]
  },
  {
   "cell_type": "code",
   "execution_count": 136,
   "metadata": {},
   "outputs": [],
   "source": [
    "from sklearn.metrics import classification_report, confusion_matrix"
   ]
  },
  {
   "cell_type": "code",
   "execution_count": 140,
   "metadata": {},
   "outputs": [
    {
     "data": {
      "text/plain": [
       "array([1, 0, 5, 1, 2, 1, 3, 1, 0, 3, 2, 3, 4, 0, 3, 3, 2, 1, 3, 4, 4, 4,\n",
       "       1, 1, 1, 3, 4, 2, 4, 1, 2, 2, 5, 1, 1, 3, 3, 1, 2, 3, 3, 0, 1, 2,\n",
       "       3, 4, 3, 5, 1, 0, 4, 2, 5, 3, 4, 3, 1, 2, 1, 1, 1, 4, 0, 2, 2, 3,\n",
       "       1, 0, 4, 1, 2, 3, 0, 1, 2, 1, 2, 1, 0, 3, 0, 0, 4, 4, 2, 4, 1, 0,\n",
       "       2, 0, 0, 0, 3, 0, 1, 4, 4, 4, 3, 2, 1, 3, 0, 0, 4, 3, 1, 2, 3, 1,\n",
       "       5, 3, 3, 4, 1, 3, 3, 3, 3, 1, 4, 5, 3, 4, 1, 4, 1, 2, 0, 4, 5, 0,\n",
       "       1, 1, 1, 2, 2, 3, 1, 2, 1, 1, 0, 0, 2, 3, 5, 0, 5, 1, 1, 4, 1, 0,\n",
       "       2, 3, 2, 1, 0, 4, 2, 2, 1, 4, 3, 0, 2, 2, 1, 3, 1, 2, 1, 1, 1, 5,\n",
       "       2, 2, 4, 2, 4, 4, 0, 0, 4, 0, 3, 4, 4, 4, 2, 3, 1, 4, 2, 4, 1, 2,\n",
       "       3, 3, 4, 0, 3, 0, 1, 0, 2, 4, 2, 2, 1, 3, 0, 5, 1, 4, 3, 0, 4, 1,\n",
       "       3, 3, 4, 2, 1, 1, 0, 0, 0, 1, 3, 0, 3, 4, 5, 1, 4, 2, 1, 4, 1, 0,\n",
       "       2, 0, 1, 4, 4, 0, 3, 1, 4, 3, 2, 1, 2, 4, 1, 3, 4, 4, 2, 1, 3, 3,\n",
       "       4, 2, 1, 1, 2, 4, 0, 2, 4, 2, 1, 0, 4, 5, 3, 4, 3, 2, 1, 0, 0, 4,\n",
       "       0, 0, 4, 2, 1, 4, 4, 4, 4, 1, 1, 0, 5, 1, 1, 1, 3, 3, 4, 3, 1, 3,\n",
       "       2, 3, 3, 2, 3, 0, 1, 2, 4, 3, 5, 0, 3, 0, 4, 0, 1, 0, 5, 0, 3, 1,\n",
       "       4, 2, 3, 1, 3, 3, 2, 1, 1, 1, 0, 1, 4, 3, 3, 0, 0, 0, 1, 3, 4, 0,\n",
       "       0, 3, 0, 3, 5, 4, 4, 1, 4, 1, 0, 4, 4, 3, 3, 2, 4, 4, 0, 1, 2, 3,\n",
       "       3, 1, 0, 3, 3, 2, 1, 4, 0, 4, 0, 2, 4, 4, 2, 2, 3, 1, 1, 3, 2, 1,\n",
       "       1, 2, 4, 2, 3, 3, 4, 1, 0, 4, 1, 2, 3, 1, 2, 1, 3, 1, 0, 2, 3, 1,\n",
       "       5, 0, 2, 0, 5, 0, 3, 3, 4, 4, 1, 4, 3, 4, 1, 2, 3, 1, 3, 4, 2, 4,\n",
       "       1, 0, 4, 4, 5, 3, 3, 3, 3, 3, 0, 3, 5, 4, 3, 2, 1, 5, 3, 1, 0, 4,\n",
       "       0, 3, 0, 4, 2, 1, 3, 1, 3, 1, 2, 5, 3, 1, 2, 1, 1, 3, 4, 3, 0, 2,\n",
       "       3, 0, 3, 2, 0, 2, 4, 2, 0, 2, 0, 5, 3, 0, 4, 3, 1, 4, 1, 3, 1, 3])"
      ]
     },
     "execution_count": 140,
     "metadata": {},
     "output_type": "execute_result"
    }
   ],
   "source": [
    "ytest = model.predict(xtest)\n",
    "prediction"
   ]
  },
  {
   "cell_type": "code",
   "execution_count": 154,
   "metadata": {},
   "outputs": [
    {
     "data": {
      "text/plain": [
       "<matplotlib.axes._subplots.AxesSubplot at 0x29acf1fc908>"
      ]
     },
     "execution_count": 154,
     "metadata": {},
     "output_type": "execute_result"
    },
    {
     "data": {
      "image/png": "[encoded data removed]",
      "text/plain": [
       "<Figure size 720x720 with 2 Axes>"
      ]
     },
     "metadata": {
      "needs_background": "light"
     },
     "output_type": "display_data"
    }
   ],
   "source": [
    "plt.figure(figsize=(10,10))\n",
    "cm = confusion_matrix(ytest,grid_predictions)\n",
    "sns.heatmap(cm, annot=True, fmt=\"d\")"
   ]
  },
  {
   "cell_type": "code",
   "execution_count": 153,
   "metadata": {},
   "outputs": [
    {
     "data": {
      "text/plain": [
       "<matplotlib.axes._subplots.AxesSubplot at 0x29acf0ce7c8>"
      ]
     },
     "execution_count": 153,
     "metadata": {},
     "output_type": "execute_result"
    },
    {
     "data": {
      "image/png": "[encoded data removed]",
      "text/plain": [
       "<Figure size 720x720 with 2 Axes>"
      ]
     },
     "metadata": {
      "needs_background": "light"
     },
     "output_type": "display_data"
    }
   ],
   "source": [
    "plt.figure(figsize=(10,10))\n",
    "cm = confusion_matrix(ytest,prediction)\n",
    "sns.heatmap(cm, annot=True, fmt=\"d\")"
   ]
  },
  {
   "cell_type": "code",
   "execution_count": 174,
   "metadata": {
    "scrolled": true
   },
   "outputs": [
    {
     "name": "stdout",
     "output_type": "stream",
     "text": [
      "score 0.5375494071146245\n",
      "{'C': 10, 'kernel': 'rbf'}\n",
      "Wall time: 19min 43s\n"
     ]
    }
   ],
   "source": [
    "%%time\n",
    "from sklearn.svm import SVC\n",
    "from sklearn.model_selection import GridSearchCV\n",
    "\n",
    "parameters = {'kernel':['linear', 'rbf', 'poly'], 'C':[0.1, 0.5, 1, 5, 10]}\n",
    "\n",
    "clf = GridSearchCV(SVC(), parameters)\n",
    "clf.fit(xtrain, ytrain)\n",
    "print('score',clf.score(xtest, ytest))\n",
    "print(clf.best_params_)"
   ]
  },
  {
   "cell_type": "code",
   "execution_count": 177,
   "metadata": {},
   "outputs": [
    {
     "data": {
      "text/plain": [
       "\"   score 0.5375494071146245\\n{'C': 10, 'kernel': 'rbf'}\\nWall time: 19min 43s   \""
      ]
     },
     "execution_count": 177,
     "metadata": {},
     "output_type": "execute_result"
    }
   ],
   "source": [
    "\"\"\"   score 0.5375494071146245\n",
    "{'C': 10, 'kernel': 'rbf'}\n",
    "Wall time: 19min 43s   \"\"\""
   ]
  },
  {
   "cell_type": "code",
   "execution_count": 195,
   "metadata": {},
   "outputs": [],
   "source": [
    "xtrain, xtest, ytrain,ytest = train_test_split (features, labels, train_size=0.80, test_size=0.20)\n"
   ]
  },
  {
   "cell_type": "code",
   "execution_count": 186,
   "metadata": {},
   "outputs": [
    {
     "data": {
      "text/plain": [
       "SVC(C=10, break_ties=False, cache_size=200, class_weight=None, coef0=0.0,\n",
       "    decision_function_shape='ovr', degree=3, gamma='auto', kernel='rbf',\n",
       "    max_iter=-1, probability=False, random_state=None, shrinking=True,\n",
       "    tol=0.001, verbose=False)"
      ]
     },
     "execution_count": 186,
     "metadata": {},
     "output_type": "execute_result"
    }
   ],
   "source": [
    "model= SVC(C=10,kernel='rbf', gamma='auto')\n",
    "model.fit(xtrain, ytrain)"
   ]
  },
  {
   "cell_type": "code",
   "execution_count": 187,
   "metadata": {},
   "outputs": [],
   "source": [
    "#passing the latest recommended attributes"
   ]
  },
  {
   "cell_type": "code",
   "execution_count": 188,
   "metadata": {},
   "outputs": [],
   "source": [
    "pick= open('model5.sav','wb')\n",
    "pickle.dump(model,pick)\n",
    "pick.close()\n"
   ]
  },
  {
   "cell_type": "code",
   "execution_count": 196,
   "metadata": {},
   "outputs": [],
   "source": [
    "pick= open('model5.sav','rb')\n",
    "model=pickle.load(pick)\n",
    "pick.close()"
   ]
  },
  {
   "cell_type": "code",
   "execution_count": 197,
   "metadata": {},
   "outputs": [
    {
     "name": "stdout",
     "output_type": "stream",
     "text": [
      "Accuracy :  0.849802371541502\n",
      "Prediction is : paper\n"
     ]
    },
    {
     "data": {
      "image/png": "[encoded data removed]",
      "text/plain": [
       "<Figure size 432x288 with 1 Axes>"
      ]
     },
     "metadata": {
      "needs_background": "light"
     },
     "output_type": "display_data"
    }
   ],
   "source": [
    "random.shuffle(data)\n",
    "prediction= model.predict(xtest)\n",
    "accuracy = model.score (xtest, ytest)\n",
    "\n",
    "categories = ['cardboard','glass','metal','paper','plastic','trash']\n",
    "\n",
    "print('Accuracy : ', accuracy)\n",
    "print('Prediction is :',categories[prediction[0]])\n",
    "\n",
    "\n",
    "\n",
    "trash=xtest[0].reshape(50,50)\n",
    "plt.imshow(trash, cmap='gray')\n",
    "plt.show()\n",
    "\n",
    "  "
   ]
  },
  {
   "cell_type": "code",
   "execution_count": 198,
   "metadata": {},
   "outputs": [
    {
     "name": "stdout",
     "output_type": "stream",
     "text": [
      "[[ 56   0   0  16   0   0]\n",
      " [  0  89   0  21   0   0]\n",
      " [  0   0  65  16   0   0]\n",
      " [  0   0   0 112   0   0]\n",
      " [  0   1   0  16  79   0]\n",
      " [  0   0   0   6   0  29]]\n",
      "              precision    recall  f1-score   support\n",
      "\n",
      "           0       1.00      0.78      0.88        72\n",
      "           1       0.99      0.81      0.89       110\n",
      "           2       1.00      0.80      0.89        81\n",
      "           3       0.60      1.00      0.75       112\n",
      "           4       1.00      0.82      0.90        96\n",
      "           5       1.00      0.83      0.91        35\n",
      "\n",
      "    accuracy                           0.85       506\n",
      "   macro avg       0.93      0.84      0.87       506\n",
      "weighted avg       0.91      0.85      0.86       506\n",
      "\n"
     ]
    }
   ],
   "source": [
    "#CONFUSION MATRIX\n",
    "from sklearn.svm import SVC\n",
    "predictions = model.predict(xtest)\n",
    "from sklearn.metrics import classification_report,confusion_matrix\n",
    "print(confusion_matrix(ytest, predictions))\n",
    "print(classification_report(ytest, predictions))"
   ]
  },
  {
   "cell_type": "code",
   "execution_count": 199,
   "metadata": {},
   "outputs": [
    {
     "data": {
      "text/plain": [
       "<matplotlib.axes._subplots.AxesSubplot at 0x29acfb02c08>"
      ]
     },
     "execution_count": 199,
     "metadata": {},
     "output_type": "execute_result"
    },
    {
     "data": {
      "image/png": "[encoded data removed]",
      "text/plain": [
       "<Figure size 720x720 with 2 Axes>"
      ]
     },
     "metadata": {
      "needs_background": "light"
     },
     "output_type": "display_data"
    }
   ],
   "source": [
    "plt.figure(figsize=(10,10))\n",
    "cm = confusion_matrix(ytest,prediction)\n",
    "sns.heatmap(cm, annot=True, fmt=\"d\")"
   ]
  },
  {
   "cell_type": "code",
   "execution_count": 200,
   "metadata": {},
   "outputs": [],
   "source": [
    "#here we can see by changing the attributes, we got a different result for accuracy as well as other parameters"
   ]
  },
  {
   "cell_type": "code",
   "execution_count": null,
   "metadata": {},
   "outputs": [],
   "source": []
  },
  {
   "cell_type": "code",
   "execution_count": null,
   "metadata": {},
   "outputs": [],
   "source": []
  },
  {
   "cell_type": "code",
   "execution_count": 24,
   "metadata": {
    "collapsed": true
   },
   "outputs": [
    {
     "name": "stdout",
     "output_type": "stream",
     "text": [
      "[1.84691419 1.50990542 0.16717758 0.8385415  0.50418634 1.17555027\n",
      " 0.50418634 0.50418634 1.50990542 0.16717758 0.50418634 0.16717758\n",
      " 0.16717758 0.50418634 0.16717758 0.8385415  1.50990542 1.50990542\n",
      " 0.16717758 1.84691419 0.16717758 0.50418634 1.17555027 1.84691419\n",
      " 0.8385415  0.50418634 0.50418634 0.8385415  1.50990542 1.84691419\n",
      " 1.50990542 0.50418634 1.17555027 1.17555027 0.50418634 1.84691419\n",
      " 0.50418634 0.8385415  1.84691419 1.84691419 1.84691419 0.50418634\n",
      " 0.8385415  1.84691419 0.50418634 0.50418634 0.8385415  0.50418634\n",
      " 1.50990542 1.50990542 0.8385415  1.17555027 1.84691419 0.8385415\n",
      " 0.50418634 1.50990542 1.17555027 0.8385415  0.50418634 1.17555027\n",
      " 1.17555027 0.8385415  0.50418634 0.8385415  0.8385415  0.50418634\n",
      " 0.8385415  1.17555027 0.16717758 1.50990542 0.8385415  0.16717758\n",
      " 0.50418634 0.8385415  1.50990542 0.50418634 1.17555027 1.50990542\n",
      " 1.17555027 0.50418634 0.16717758 0.16717758 0.8385415  1.50990542\n",
      " 0.50418634 1.17555027 0.8385415  0.50418634 0.16717758 1.17555027\n",
      " 1.84691419 0.16717758 0.50418634 0.50418634 1.17555027 1.17555027\n",
      " 0.50418634 0.50418634 1.17555027 0.8385415  0.16717758 0.50418634\n",
      " 0.16717758 1.84691419 0.8385415  1.84691419 1.17555027 1.17555027\n",
      " 0.50418634 0.50418634 0.8385415  1.50990542 0.8385415  1.50990542\n",
      " 1.84691419 1.50990542 0.50418634 0.8385415  0.50418634 0.8385415\n",
      " 0.50418634 1.17555027 0.16717758 0.8385415  0.8385415  1.50990542\n",
      " 0.8385415  1.50990542 0.8385415  1.17555027 1.84691419 1.50990542\n",
      " 0.50418634 0.8385415  0.8385415  1.84691419 0.50418634 0.16717758\n",
      " 1.17555027 0.50418634 1.17555027 0.16717758 0.50418634 0.8385415\n",
      " 0.50418634 1.50990542 0.50418634 1.17555027 0.8385415  0.8385415\n",
      " 0.50418634 0.8385415  1.50990542 1.50990542 0.50418634 0.16717758\n",
      " 0.8385415  0.16717758 0.16717758 0.8385415  0.50418634 1.50990542\n",
      " 1.17555027 1.17555027 0.50418634 0.16717758 0.50418634 1.17555027\n",
      " 0.8385415  0.8385415  0.16717758 1.17555027 0.16717758 1.17555027\n",
      " 0.8385415  0.8385415  0.16717758 0.50418634 0.50418634 0.50418634\n",
      " 0.50418634 0.50418634 1.50990542 0.8385415  0.8385415  1.17555027\n",
      " 1.84691419 0.50418634 0.50418634 1.50990542 1.17555027 1.50990542\n",
      " 1.50990542 0.16717758 0.8385415  1.84691419 1.50990542 0.8385415\n",
      " 0.16717758 0.8385415  1.17555027 0.8385415  0.16717758 1.50990542\n",
      " 1.17555027 0.50418634 0.16717758 1.17555027 1.50990542 0.8385415\n",
      " 1.50990542 1.17555027 0.8385415  1.50990542 0.8385415  0.16717758\n",
      " 1.17555027 0.50418634 1.17555027 0.16717758 1.17555027 1.50990542\n",
      " 0.8385415  0.50418634 0.50418634 0.8385415  0.16717758 1.17555027\n",
      " 0.8385415  0.50418634 0.50418634 0.8385415  1.50990542 0.16717758\n",
      " 1.50990542 1.84691419 1.50990542 0.50418634 0.50418634 1.17555027\n",
      " 0.16717758 1.50990542 0.16717758 0.50418634 0.50418634 1.17555027\n",
      " 0.16717758 1.50990542 0.16717758 0.16717758 0.8385415  0.50418634\n",
      " 0.50418634 0.50418634 0.50418634 1.17555027 0.16717758 0.50418634\n",
      " 0.50418634 0.16717758 0.50418634 0.50418634 1.17555027 0.50418634\n",
      " 0.50418634 0.8385415  0.16717758 0.50418634 0.8385415  1.50990542\n",
      " 1.17555027 0.50418634 1.17555027 0.16717758 1.17555027 0.50418634\n",
      " 1.17555027 1.17555027 1.50990542 1.17555027 0.50418634 1.17555027\n",
      " 0.8385415  0.16717758 1.50990542 1.50990542 1.17555027 0.50418634\n",
      " 1.50990542 1.50990542 1.50990542 0.50418634 0.50418634 0.8385415\n",
      " 0.16717758 0.16717758 0.16717758 1.50990542 0.16717758 1.50990542\n",
      " 0.8385415  0.16717758 0.8385415  0.8385415  0.8385415  0.50418634\n",
      " 0.8385415  1.84691419 0.50418634 0.8385415  0.50418634 0.50418634\n",
      " 0.50418634 0.8385415  0.16717758 1.50990542 0.50418634 0.8385415\n",
      " 1.84691419 0.16717758 0.16717758 0.8385415  0.50418634 0.8385415\n",
      " 0.8385415  0.50418634 1.50990542 0.50418634 0.16717758 1.17555027\n",
      " 0.50418634 1.50990542 0.8385415  0.50418634 0.50418634 1.17555027\n",
      " 1.50990542 0.50418634 0.8385415  1.17555027 1.50990542 0.50418634\n",
      " 0.8385415  0.50418634 0.50418634 1.50990542 1.17555027 1.50990542\n",
      " 1.17555027 1.84691419 0.50418634 1.17555027 1.50990542 0.16717758\n",
      " 1.50990542 0.16717758 0.50418634 0.50418634 0.16717758 0.16717758\n",
      " 1.17555027 0.8385415  1.84691419 0.50418634 0.50418634 0.16717758\n",
      " 0.50418634 0.50418634 1.50990542 0.8385415  0.8385415  0.50418634\n",
      " 1.50990542 1.17555027 0.50418634 0.50418634 1.84691419 1.50990542\n",
      " 1.17555027 1.17555027 0.50418634 0.16717758 0.8385415  1.50990542\n",
      " 0.50418634 0.8385415  1.50990542 0.50418634 1.50990542 0.16717758\n",
      " 1.50990542 0.16717758 1.17555027 0.16717758 0.16717758 0.50418634\n",
      " 0.16717758 0.16717758 1.50990542 0.16717758 1.50990542 0.16717758\n",
      " 0.16717758 1.50990542 1.17555027 1.50990542 0.16717758 1.17555027\n",
      " 0.8385415  0.50418634 0.8385415  1.84691419 0.50418634 0.16717758\n",
      " 0.50418634 0.16717758 0.8385415  1.17555027 0.8385415  1.17555027\n",
      " 1.84691419 0.8385415  0.50418634 0.50418634 1.50990542 1.50990542\n",
      " 1.17555027 1.17555027 0.16717758 0.50418634 1.17555027 1.84691419\n",
      " 0.16717758 0.16717758 0.8385415  1.50990542 0.50418634 0.8385415\n",
      " 1.17555027 0.8385415  1.50990542 1.50990542 1.17555027 0.50418634\n",
      " 0.50418634 0.8385415  0.8385415  1.17555027 1.17555027 0.16717758\n",
      " 1.50990542 1.17555027 1.84691419 1.50990542 0.50418634 1.84691419\n",
      " 0.50418634 0.8385415  0.16717758 0.50418634 0.50418634 0.50418634\n",
      " 0.8385415  1.17555027 0.50418634 1.17555027 1.84691419 0.50418634\n",
      " 0.50418634 0.50418634 0.8385415  0.8385415  0.50418634 1.17555027\n",
      " 1.17555027 1.50990542 0.8385415  0.16717758 1.17555027 0.50418634\n",
      " 0.8385415  1.17555027 0.16717758 0.50418634 1.50990542 0.16717758\n",
      " 0.50418634 0.8385415  0.50418634 0.8385415  0.8385415  0.8385415\n",
      " 0.16717758 1.17555027 1.50990542 0.8385415  1.50990542 1.17555027\n",
      " 0.8385415  0.8385415  0.8385415  0.8385415  1.50990542 0.16717758\n",
      " 1.84691419 0.8385415 ]\n"
     ]
    }
   ],
   "source": [
    "\n",
    "# determining outliers using Z scores where mean is  '0' and Standard deviation is '1'\n",
    "\n",
    "from scipy import stats\n",
    "import numpy as np\n",
    "z = np.abs(stats.zscore(ytest))\n",
    "print(z)"
   ]
  },
  {
   "cell_type": "code",
   "execution_count": 161,
   "metadata": {},
   "outputs": [
    {
     "name": "stdout",
     "output_type": "stream",
     "text": [
      "(array([], dtype=int64),)\n"
     ]
    }
   ],
   "source": [
    "# defining threshold as 3 to identify any outliers above 3\n",
    "threshold = 3\n",
    "print(np.where(z > 3))"
   ]
  },
  {
   "cell_type": "code",
   "execution_count": 25,
   "metadata": {},
   "outputs": [],
   "source": [
    "#trying with random forrest classifier"
   ]
  },
  {
   "cell_type": "code",
   "execution_count": null,
   "metadata": {},
   "outputs": [],
   "source": []
  },
  {
   "cell_type": "code",
   "execution_count": null,
   "metadata": {},
   "outputs": [],
   "source": []
  },
  {
   "cell_type": "code",
   "execution_count": null,
   "metadata": {},
   "outputs": [],
   "source": []
  },
  {
   "cell_type": "code",
   "execution_count": null,
   "metadata": {},
   "outputs": [],
   "source": []
  },
  {
   "cell_type": "code",
   "execution_count": null,
   "metadata": {},
   "outputs": [],
   "source": []
  },
  {
   "cell_type": "code",
   "execution_count": 126,
   "metadata": {},
   "outputs": [],
   "source": [
    "from sklearn.preprocessing import StandardScaler\n",
    "sc = StandardScaler()\n",
    "xtrain = sc.fit_transform(xtrain)\n",
    "xtest = sc.transform(xtest)\n"
   ]
  },
  {
   "cell_type": "code",
   "execution_count": 127,
   "metadata": {},
   "outputs": [
    {
     "data": {
      "text/plain": [
       "RandomForestClassifier(bootstrap=True, ccp_alpha=0.0, class_weight=None,\n",
       "                       criterion='entropy', max_depth=None, max_features='auto',\n",
       "                       max_leaf_nodes=None, max_samples=None,\n",
       "                       min_impurity_decrease=0.0, min_impurity_split=None,\n",
       "                       min_samples_leaf=1, min_samples_split=2,\n",
       "                       min_weight_fraction_leaf=0.0, n_estimators=10,\n",
       "                       n_jobs=None, oob_score=False, random_state=50, verbose=0,\n",
       "                       warm_start=False)"
      ]
     },
     "execution_count": 127,
     "metadata": {},
     "output_type": "execute_result"
    }
   ],
   "source": [
    "from sklearn.ensemble import RandomForestClassifier\n",
    "classifier = RandomForestClassifier(n_estimators = 10, criterion = 'entropy', random_state = 50)\n",
    "classifier.fit(xtrain, ytrain)"
   ]
  },
  {
   "cell_type": "code",
   "execution_count": 125,
   "metadata": {},
   "outputs": [
    {
     "name": "stdout",
     "output_type": "stream",
     "text": [
      "Accuracy :  0.1600790513833992\n",
      "Prediction is : metal\n"
     ]
    },
    {
     "data": {
      "image/png": "[encoded data removed]",
      "text/plain": [
       "<Figure size 432x288 with 1 Axes>"
      ]
     },
     "metadata": {
      "needs_background": "light"
     },
     "output_type": "display_data"
    }
   ],
   "source": [
    "random.shuffle(data)\n",
    "prediction= classifier.predict(xtest)\n",
    "accuracy = classifier.score (xtest, ytest)\n",
    "\n",
    "categories = ['cardboard','glass','metal','paper','plastic','trash']\n",
    "\n",
    "print('Accuracy : ', accuracy)\n",
    "print('Prediction is :',categories[prediction[0]])\n",
    "\n",
    "\n",
    "\n",
    "trash=xtest[0].reshape(50,50)\n",
    "plt.imshow(trash, cmap='gray')\n",
    "plt.show()\n"
   ]
  },
  {
   "cell_type": "code",
   "execution_count": null,
   "metadata": {},
   "outputs": [],
   "source": []
  },
  {
   "cell_type": "code",
   "execution_count": null,
   "metadata": {},
   "outputs": [],
   "source": []
  },
  {
   "cell_type": "code",
   "execution_count": null,
   "metadata": {},
   "outputs": [],
   "source": []
  },
  {
   "cell_type": "code",
   "execution_count": 186,
   "metadata": {},
   "outputs": [],
   "source": [
    "import numpy as np\n",
    "import matplotlib.pyplot as plt\n",
    "import pandas as pd"
   ]
  },
  {
   "cell_type": "code",
   "execution_count": 187,
   "metadata": {},
   "outputs": [],
   "source": [
    "from sklearn.preprocessing import StandardScaler\n",
    "sc = StandardScaler()\n",
    "xtrain = sc.fit_transform(xtrain)\n",
    "xtest = sc.transform(xtest)"
   ]
  },
  {
   "cell_type": "code",
   "execution_count": 188,
   "metadata": {},
   "outputs": [
    {
     "data": {
      "text/plain": [
       "RandomForestClassifier(bootstrap=True, ccp_alpha=0.0, class_weight=None,\n",
       "                       criterion='entropy', max_depth=None, max_features='auto',\n",
       "                       max_leaf_nodes=None, max_samples=None,\n",
       "                       min_impurity_decrease=0.0, min_impurity_split=None,\n",
       "                       min_samples_leaf=1, min_samples_split=2,\n",
       "                       min_weight_fraction_leaf=0.0, n_estimators=10,\n",
       "                       n_jobs=None, oob_score=False, random_state=50, verbose=0,\n",
       "                       warm_start=False)"
      ]
     },
     "execution_count": 188,
     "metadata": {},
     "output_type": "execute_result"
    }
   ],
   "source": [
    "from sklearn.ensemble import RandomForestClassifier\n",
    "clf= RandomForestClassifier(n_estimators = 10, criterion = 'entropy', random_state = 50)\n",
    "clf.fit(xtrain, ytrain)"
   ]
  },
  {
   "cell_type": "code",
   "execution_count": 189,
   "metadata": {},
   "outputs": [],
   "source": [
    "y_predict = clf.predict(xtest)"
   ]
  },
  {
   "cell_type": "code",
   "execution_count": 190,
   "metadata": {},
   "outputs": [],
   "source": [
    "from sklearn.metrics import confusion_matrix,accuracy_score\n",
    "cm = confusion_matrix(ytest, y_predict)\n",
    "accuracy_score=accuracy_score(ytest,y_predict)\n",
    "from sklearn.model_selection import cross_val_score\n",
    "\n",
    "cross_valid=cross_val_score(clf,features,labels,cv=10,scoring='accuracy').mean()"
   ]
  },
  {
   "cell_type": "code",
   "execution_count": 191,
   "metadata": {},
   "outputs": [
    {
     "name": "stdout",
     "output_type": "stream",
     "text": [
      "              precision    recall  f1-score   support\n",
      "\n",
      "           0       0.62      0.59      0.61        91\n",
      "           1       0.44      0.54      0.48       100\n",
      "           2       0.45      0.38      0.41        81\n",
      "           3       0.64      0.67      0.66       113\n",
      "           4       0.58      0.54      0.56        97\n",
      "           5       0.61      0.46      0.52        24\n",
      "\n",
      "    accuracy                           0.55       506\n",
      "   macro avg       0.56      0.53      0.54       506\n",
      "weighted avg       0.55      0.55      0.55       506\n",
      "\n",
      "Cross Validation :  0.5671074094987139\n"
     ]
    },
    {
     "data": {
      "text/plain": [
       "<matplotlib.axes._subplots.AxesSubplot at 0x1e14ad1f0c8>"
      ]
     },
     "execution_count": 191,
     "metadata": {},
     "output_type": "execute_result"
    },
    {
     "data": {
      "image/png": "[encoded data removed]",
      "text/plain": [
       "<Figure size 720x720 with 2 Axes>"
      ]
     },
     "metadata": {
      "needs_background": "light"
     },
     "output_type": "display_data"
    }
   ],
   "source": [
    "#CONFUSION MATRIX\n",
    "from sklearn.svm import SVC\n",
    "import seaborn as sns\n",
    "y_predict = clf.predict(xtest)\n",
    "from sklearn.metrics import classification_report,confusion_matrix\n",
    "from sklearn.model_selection import cross_val_score\n",
    "\n",
    "print(classification_report(ytest, y_predict))\n",
    "print(\"Cross Validation : \",cross_valid)\n",
    "\n",
    "\n",
    "\n",
    "plt.figure(figsize=(10,10))\n",
    "cm = confusion_matrix(ytest,y_predict)\n",
    "sns.heatmap(cm, annot=True, fmt=\"d\")"
   ]
  },
  {
   "cell_type": "code",
   "execution_count": null,
   "metadata": {},
   "outputs": [],
   "source": [
    "#the above is without hyperparameter"
   ]
  },
  {
   "cell_type": "code",
   "execution_count": null,
   "metadata": {},
   "outputs": [],
   "source": []
  },
  {
   "cell_type": "code",
   "execution_count": null,
   "metadata": {},
   "outputs": [],
   "source": []
  },
  {
   "cell_type": "code",
   "execution_count": null,
   "metadata": {},
   "outputs": [],
   "source": []
  },
  {
   "cell_type": "code",
   "execution_count": null,
   "metadata": {},
   "outputs": [],
   "source": []
  },
  {
   "cell_type": "code",
   "execution_count": null,
   "metadata": {},
   "outputs": [],
   "source": []
  },
  {
   "cell_type": "code",
   "execution_count": 179,
   "metadata": {},
   "outputs": [],
   "source": [
    "#the below is using the random search "
   ]
  },
  {
   "cell_type": "code",
   "execution_count": 130,
   "metadata": {},
   "outputs": [],
   "source": [
    "from sklearn.model_selection import RandomizedSearchCV"
   ]
  },
  {
   "cell_type": "code",
   "execution_count": 131,
   "metadata": {},
   "outputs": [],
   "source": [
    "from scipy.stats import randint"
   ]
  },
  {
   "cell_type": "code",
   "execution_count": 132,
   "metadata": {},
   "outputs": [],
   "source": [
    "est = RandomForestClassifier(n_jobs=-1)"
   ]
  },
  {
   "cell_type": "code",
   "execution_count": 133,
   "metadata": {},
   "outputs": [],
   "source": [
    "rf_p_dist={'max_depth':[3,5,10,None],\n",
    "              'n_estimators':[10,100,200,300,400,500],\n",
    "             \n",
    "               'criterion':['gini','entropy'],\n",
    "               'bootstrap':[True,False],\n",
    "               \n",
    "              }"
   ]
  },
  {
   "cell_type": "code",
   "execution_count": 134,
   "metadata": {},
   "outputs": [],
   "source": [
    "def hypertuning_rscv(est, p_distr, nbr_iter,features,labels):\n",
    "    rdmsearch = RandomizedSearchCV(est, param_distributions=p_distr,\n",
    "                                  n_jobs=-1, n_iter=nbr_iter, cv=9)\n",
    "    #CV = Cross-Validation ( here using Stratified KFold CV)\n",
    "    rdmsearch.fit(features,labels)\n",
    "    ht_params = rdmsearch.best_params_\n",
    "    ht_score = rdmsearch.best_score_\n",
    "    return ht_params, ht_score"
   ]
  },
  {
   "cell_type": "code",
   "execution_count": 135,
   "metadata": {},
   "outputs": [],
   "source": [
    "\n",
    "rf_parameters, rf_ht_score = hypertuning_rscv(est, rf_p_dist, 40, features, labels)"
   ]
  },
  {
   "cell_type": "code",
   "execution_count": 139,
   "metadata": {},
   "outputs": [
    {
     "data": {
      "text/plain": [
       "{'n_estimators': 200,\n",
       " 'max_depth': None,\n",
       " 'criterion': 'gini',\n",
       " 'bootstrap': False}"
      ]
     },
     "execution_count": 139,
     "metadata": {},
     "output_type": "execute_result"
    }
   ],
   "source": [
    "rf_parameters\n"
   ]
  },
  {
   "cell_type": "code",
   "execution_count": 137,
   "metadata": {},
   "outputs": [
    {
     "data": {
      "text/plain": [
       "0.6592936225498502"
      ]
     },
     "execution_count": 137,
     "metadata": {},
     "output_type": "execute_result"
    }
   ],
   "source": [
    "rf_ht_score"
   ]
  },
  {
   "cell_type": "code",
   "execution_count": 180,
   "metadata": {},
   "outputs": [],
   "source": [
    "claasifier=RandomForestClassifier(n_jobs=-1, n_estimators=200,bootstrap= False,criterion='gini',max_depth=None)"
   ]
  },
  {
   "cell_type": "code",
   "execution_count": 182,
   "metadata": {},
   "outputs": [],
   "source": [
    "from sklearn.model_selection import cross_val_score\n",
    "\n",
    "\n",
    "cross_val=cross_val_score(claasifier,features,labels,cv=10,scoring='accuracy').max()"
   ]
  },
  {
   "cell_type": "code",
   "execution_count": 183,
   "metadata": {},
   "outputs": [
    {
     "name": "stdout",
     "output_type": "stream",
     "text": [
      "Cross Validation :  0.7063492063492064\n"
     ]
    }
   ],
   "source": [
    "print(\"Cross Validation : \",cross_val)"
   ]
  },
  {
   "cell_type": "code",
   "execution_count": 146,
   "metadata": {},
   "outputs": [
    {
     "data": {
      "text/plain": [
       "0.6592936225498502"
      ]
     },
     "execution_count": 146,
     "metadata": {},
     "output_type": "execute_result"
    }
   ],
   "source": [
    "rf_ht_score #this is before fitting into the Random forrest classifier"
   ]
  },
  {
   "cell_type": "code",
   "execution_count": 184,
   "metadata": {},
   "outputs": [],
   "source": [
    "y_pred = classifier.predict(xtest)"
   ]
  },
  {
   "cell_type": "code",
   "execution_count": 185,
   "metadata": {},
   "outputs": [
    {
     "name": "stdout",
     "output_type": "stream",
     "text": [
      "              precision    recall  f1-score   support\n",
      "\n",
      "           0       0.62      0.59      0.61        91\n",
      "           1       0.44      0.54      0.48       100\n",
      "           2       0.45      0.38      0.41        81\n",
      "           3       0.64      0.67      0.66       113\n",
      "           4       0.58      0.54      0.56        97\n",
      "           5       0.61      0.46      0.52        24\n",
      "\n",
      "    accuracy                           0.55       506\n",
      "   macro avg       0.56      0.53      0.54       506\n",
      "weighted avg       0.55      0.55      0.55       506\n",
      "\n",
      "Cross Validation :  0.7063492063492064\n"
     ]
    },
    {
     "data": {
      "text/plain": [
       "<matplotlib.axes._subplots.AxesSubplot at 0x1e14ab33748>"
      ]
     },
     "execution_count": 185,
     "metadata": {},
     "output_type": "execute_result"
    },
    {
     "data": {
      "image/png": "[encoded data removed]",
      "text/plain": [
       "<Figure size 720x720 with 2 Axes>"
      ]
     },
     "metadata": {
      "needs_background": "light"
     },
     "output_type": "display_data"
    }
   ],
   "source": [
    "#CONFUSION MATRIX\n",
    "from sklearn.svm import SVC\n",
    "import seaborn as sns\n",
    "y_pred = classifier.predict(xtest)\n",
    "from sklearn.metrics import classification_report,confusion_matrix\n",
    "from sklearn.model_selection import cross_val_score\n",
    "\n",
    "print(classification_report(ytest, y_pred))\n",
    "print(\"Cross Validation : \",cross_val)\n",
    "\n",
    "\n",
    "\n",
    "plt.figure(figsize=(10,10))\n",
    "cm = confusion_matrix(ytest,y_pred)\n",
    "sns.heatmap(cm, annot=True, fmt=\"d\")"
   ]
  },
  {
   "cell_type": "code",
   "execution_count": null,
   "metadata": {},
   "outputs": [],
   "source": [
    "#improved the cross validation result afer tuning "
   ]
  },
  {
   "cell_type": "code",
   "execution_count": 206,
   "metadata": {},
   "outputs": [],
   "source": [
    "#tried to Visualize the Data with Matplotlib.\n",
    "#no output cause the dataset is not linearly seperable"
   ]
  },
  {
   "cell_type": "code",
   "execution_count": 205,
   "metadata": {},
   "outputs": [
    {
     "data": {
      "image/png": "[encoded data removed]",
      "text/plain": [
       "<Figure size 432x288 with 1 Axes>"
      ]
     },
     "metadata": {
      "needs_background": "light"
     },
     "output_type": "display_data"
    }
   ],
   "source": [
    "fig,ax=plt.subplots()\n",
    "ax.scatter(ytest,y_pred, edgecolors=(0,0,0))\n",
    "ax.plot([labels, labels],[labels, labels],'k--',lw=8)\n",
    "\n",
    "ax.set_xlabel(\"measured\")\n",
    "ax.set_ylabel(\"predicted\")\n",
    "plt.show()"
   ]
  },
  {
   "cell_type": "code",
   "execution_count": null,
   "metadata": {},
   "outputs": [],
   "source": []
  },
  {
   "cell_type": "code",
   "execution_count": null,
   "metadata": {},
   "outputs": [],
   "source": []
  },
  {
   "cell_type": "code",
   "execution_count": null,
   "metadata": {},
   "outputs": [],
   "source": []
  },
  {
   "cell_type": "code",
   "execution_count": 143,
   "metadata": {},
   "outputs": [],
   "source": []
  },
  {
   "cell_type": "code",
   "execution_count": 47,
   "metadata": {},
   "outputs": [],
   "source": []
  },
  {
   "cell_type": "code",
   "execution_count": null,
   "metadata": {},
   "outputs": [],
   "source": []
  }
 ],
 "metadata": {
  "accelerator": "GPU",
  "colab": {
   "collapsed_sections": [],
   "name": "Waste classification with SVM.ipynb",
   "provenance": []
  },
  "kernelspec": {
   "display_name": "Python 3",
   "language": "python",
   "name": "python3"
  },
  "language_info": {
   "codemirror_mode": {
    "name": "ipython",
    "version": 3
   },
   "file_extension": ".py",
   "mimetype": "text/x-python",
   "name": "python",
   "nbconvert_exporter": "python",
   "pygments_lexer": "ipython3",
   "version": "3.7.4"
  }
 },
 "nbformat": 4,
 "nbformat_minor": 1
}
