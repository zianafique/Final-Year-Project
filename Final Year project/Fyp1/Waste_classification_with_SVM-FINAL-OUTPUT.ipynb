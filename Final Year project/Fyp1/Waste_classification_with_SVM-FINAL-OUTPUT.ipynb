{
 "cells": [
  {
   "cell_type": "code",
   "execution_count": 2,
   "metadata": {
    "colab": {},
    "colab_type": "code",
    "id": "eb1MMVSvKPDr"
   },
   "outputs": [],
   "source": [
    " !pip install -q keras"
   ]
  },
  {
   "cell_type": "code",
   "execution_count": 34,
   "metadata": {
    "colab": {},
    "colab_type": "code",
    "id": "1UR0q_OOKxUZ"
   },
   "outputs": [],
   "source": [
    "import keras"
   ]
  },
  {
   "cell_type": "code",
   "execution_count": 1,
   "metadata": {
    "colab": {},
    "colab_type": "code",
    "id": "hVzcwoFdK0A6"
   },
   "outputs": [],
   "source": [
    "import os \n",
    "import numpy as np \n",
    "import cv2\n",
    "import matplotlib.pyplot as plt\n",
    "import pickle\n",
    "import random\n",
    "from sklearn.model_selection import train_test_split\n",
    "from sklearn.svm import SVC\n"
   ]
  },
  {
   "cell_type": "code",
   "execution_count": 4,
   "metadata": {
    "colab": {},
    "colab_type": "code",
    "id": "7ssCc72sLLJI"
   },
   "outputs": [],
   "source": [
    "\n",
    "dir = 'C:\\\\Users\\\\Nasik\\\\Desktop\\\\Semester 6\\\\FYP\\\\dataset-resized'"
   ]
  },
  {
   "cell_type": "code",
   "execution_count": 5,
   "metadata": {
    "colab": {},
    "colab_type": "code",
    "id": "VULcphNPLRSS"
   },
   "outputs": [],
   "source": [
    "categories = ['cardboard','glass','metal','paper','plastic','trash']"
   ]
  },
  {
   "cell_type": "code",
   "execution_count": 6,
   "metadata": {
    "colab": {},
    "colab_type": "code",
    "id": "mrEvj70bLTEz"
   },
   "outputs": [],
   "source": [
    "data = [ ]"
   ]
  },
  {
   "cell_type": "code",
   "execution_count": 7,
   "metadata": {
    "colab": {
     "base_uri": "https://localhost:8080/",
     "height": 34
    },
    "colab_type": "code",
    "id": "ncp_yIxpLUnY",
    "outputId": "4b5d348d-9567-48fe-e821-1c6b746177e2"
   },
   "outputs": [
    {
     "name": "stdout",
     "output_type": "stream",
     "text": [
      "2527\n"
     ]
    }
   ],
   "source": [
    "for category in categories:\n",
    "    path = os.path.join(dir,category)\n",
    "    label=categories.index(category)\n",
    "    \n",
    "    for img in os.listdir(path):\n",
    "        imgpath = os.path.join(path,img)\n",
    "        trash_img = cv2.imread(imgpath,0)\n",
    "        try:\n",
    "            trash_img = cv2.resize(trash_img,(50,50))\n",
    "            image=np.array(trash_img).flatten()\n",
    "            data.append([image,label])\n",
    "        except Exception as e:\n",
    "            pass\n",
    "print(len(data))    \n"
   ]
  },
  {
   "cell_type": "code",
   "execution_count": 8,
   "metadata": {
    "colab": {},
    "colab_type": "code",
    "id": "Y5WdMcdVL8fG"
   },
   "outputs": [],
   "source": [
    "pick_in= open('data1.pickle','wb')\n",
    "pickle.dump(data,pick_in)\n",
    "pick_in.close()\n"
   ]
  },
  {
   "cell_type": "code",
   "execution_count": 10,
   "metadata": {
    "colab": {},
    "colab_type": "code",
    "id": "z3iNWyCxeQMl"
   },
   "outputs": [],
   "source": [
    "pick_in= open('data1.pickle','rb')\n",
    "data=pickle.load(pick_in)\n",
    "pick_in.close()\n"
   ]
  },
  {
   "cell_type": "code",
   "execution_count": 11,
   "metadata": {
    "colab": {},
    "colab_type": "code",
    "id": "tFQTkWEueWAP"
   },
   "outputs": [],
   "source": [
    "\n",
    "random.shuffle(data)\n",
    "features = []\n",
    "labels=[]\n"
   ]
  },
  {
   "cell_type": "code",
   "execution_count": 12,
   "metadata": {
    "colab": {},
    "colab_type": "code",
    "id": "PL2v37xCeXix"
   },
   "outputs": [],
   "source": [
    "for feature, label in data:\n",
    "    features.append(feature)\n",
    "    labels.append(label)\n"
   ]
  },
  {
   "cell_type": "code",
   "execution_count": 27,
   "metadata": {
    "colab": {},
    "colab_type": "code",
    "id": "2CXd7FU9eZTl"
   },
   "outputs": [],
   "source": [
    "xtrain, xtest, ytrain,ytest = train_test_split (features, labels, train_size=0.80, test_size=0.20)\n"
   ]
  },
  {
   "cell_type": "code",
   "execution_count": 23,
   "metadata": {
    "colab": {
     "base_uri": "https://localhost:8080/",
     "height": 84
    },
    "colab_type": "code",
    "id": "bidHHFIWecgO",
    "outputId": "a607b6df-e622-4361-85c6-bf3a8d5af39c"
   },
   "outputs": [
    {
     "data": {
      "text/plain": [
       "SVC(C=1, break_ties=False, cache_size=200, class_weight=None, coef0=0.0,\n",
       "    decision_function_shape='ovr', degree=3, gamma='auto', kernel='poly',\n",
       "    max_iter=-1, probability=False, random_state=None, shrinking=True,\n",
       "    tol=0.001, verbose=False)"
      ]
     },
     "execution_count": 23,
     "metadata": {},
     "output_type": "execute_result"
    }
   ],
   "source": [
    "model= SVC(C=1,kernel='poly', gamma='auto')\n",
    "model.fit(xtrain, ytrain)"
   ]
  },
  {
   "cell_type": "code",
   "execution_count": 28,
   "metadata": {
    "colab": {},
    "colab_type": "code",
    "id": "i9Fh3uV5hpqc"
   },
   "outputs": [],
   "source": [
    "pick= open('model1.sav','wb')\n",
    "pickle.dump(model,pick)\n",
    "pick.close()\n"
   ]
  },
  {
   "cell_type": "code",
   "execution_count": 29,
   "metadata": {
    "colab": {},
    "colab_type": "code",
    "id": "_fo2DHU-hp-c"
   },
   "outputs": [],
   "source": [
    "pick= open('model1.sav','rb')\n",
    "model=pickle.load(pick)\n",
    "pick.close()\n"
   ]
  },
  {
   "cell_type": "code",
   "execution_count": 32,
   "metadata": {
    "colab": {
     "base_uri": "https://localhost:8080/",
     "height": 301
    },
    "colab_type": "code",
    "id": "dqT7tx8tejQj",
    "outputId": "c7e3ca97-430c-42bb-e522-fb1f43071613"
   },
   "outputs": [
    {
     "name": "stdout",
     "output_type": "stream",
     "text": [
      "Accuracy :  0.8814229249011858\n",
      "Prediction is : glass\n"
     ]
    },
    {
     "data": {
      "image/png": "[encoded data removed]",
      "text/plain": [
       "<Figure size 432x288 with 1 Axes>"
      ]
     },
     "metadata": {
      "needs_background": "light"
     },
     "output_type": "display_data"
    }
   ],
   "source": [
    "random.shuffle(data)\n",
    "prediction= model.predict(xtest)\n",
    "accuracy = model.score (xtest, ytest)\n",
    "\n",
    "categories = ['cardboard','glass','metal','paper','plastic','trash']\n",
    "\n",
    "print('Accuracy : ', accuracy)\n",
    "print('Prediction is :',categories[prediction[0]])\n",
    "\n",
    "\n",
    "\n",
    "trash=xtest[0].reshape(50,50)\n",
    "plt.imshow(trash, cmap='gray')\n",
    "plt.show()\n",
    "\n",
    "  \n"
   ]
  },
  {
   "cell_type": "code",
   "execution_count": 33,
   "metadata": {
    "colab": {},
    "colab_type": "code",
    "id": "cy_Q7czbej2Y"
   },
   "outputs": [],
   "source": [
    "from sklearn.metrics import classification_report, confusion_matrix "
   ]
  },
  {
   "cell_type": "code",
   "execution_count": 34,
   "metadata": {
    "colab": {},
    "colab_type": "code",
    "id": "5r8WJ66-sXEC"
   },
   "outputs": [
    {
     "name": "stdout",
     "output_type": "stream",
     "text": [
      "              precision    recall  f1-score   support\n",
      "\n",
      "           0       0.83      0.88      0.86        77\n",
      "           1       0.85      0.87      0.86       113\n",
      "           2       0.91      0.88      0.90        84\n",
      "           3       0.95      0.88      0.92       118\n",
      "           4       0.85      0.92      0.89        88\n",
      "           5       0.88      0.81      0.84        26\n",
      "\n",
      "    accuracy                           0.88       506\n",
      "   macro avg       0.88      0.87      0.88       506\n",
      "weighted avg       0.88      0.88      0.88       506\n",
      "\n",
      "[[ 68   5   0   0   2   2]\n",
      " [  3  98   4   2   5   1]\n",
      " [  5   3  74   1   1   0]\n",
      " [  5   2   1 104   6   0]\n",
      " [  1   4   1   1  81   0]\n",
      " [  0   3   1   1   0  21]]\n"
     ]
    }
   ],
   "source": [
    "\n",
    "# print prediction results \n",
    "predictions = model.predict(xtest) \n",
    "print(classification_report(ytest, predictions)) \n",
    "print(confusion_matrix(ytest, predictions)) "
   ]
  },
  {
   "cell_type": "code",
   "execution_count": 97,
   "metadata": {},
   "outputs": [
    {
     "name": "stdout",
     "output_type": "stream",
     "text": [
      "[[ 68   5   0   0   2   2]\n",
      " [  3  98   4   2   5   1]\n",
      " [  5   3  74   1   1   0]\n",
      " [  5   2   1 104   6   0]\n",
      " [  1   4   1   1  81   0]\n",
      " [  0   3   1   1   0  21]]\n",
      "              precision    recall  f1-score   support\n",
      "\n",
      "           0       0.83      0.88      0.86        77\n",
      "           1       0.85      0.87      0.86       113\n",
      "           2       0.91      0.88      0.90        84\n",
      "           3       0.95      0.88      0.92       118\n",
      "           4       0.85      0.92      0.89        88\n",
      "           5       0.88      0.81      0.84        26\n",
      "\n",
      "    accuracy                           0.88       506\n",
      "   macro avg       0.88      0.87      0.88       506\n",
      "weighted avg       0.88      0.88      0.88       506\n",
      "\n"
     ]
    }
   ],
   "source": [
    "#CONFUSION MATRIX\n",
    "from sklearn.svm import SVC\n",
    "predictions = model.predict(xtest)\n",
    "from sklearn.metrics import classification_report,confusion_matrix\n",
    "print(confusion_matrix(ytest, predictions))\n",
    "print(classification_report(ytest, predictions))"
   ]
  },
  {
   "cell_type": "code",
   "execution_count": 98,
   "metadata": {},
   "outputs": [
    {
     "name": "stdout",
     "output_type": "stream",
     "text": [
      "Fitting 5 folds for each of 16 candidates, totalling 80 fits\n",
      "[CV] C=0.1, gamma=1 ..................................................\n"
     ]
    },
    {
     "name": "stderr",
     "output_type": "stream",
     "text": [
      "[Parallel(n_jobs=1)]: Using backend SequentialBackend with 1 concurrent workers.\n"
     ]
    },
    {
     "name": "stdout",
     "output_type": "stream",
     "text": [
      "[CV] ................................... C=0.1, gamma=1, total=  16.8s\n",
      "[CV] C=0.1, gamma=1 ..................................................\n"
     ]
    },
    {
     "name": "stderr",
     "output_type": "stream",
     "text": [
      "[Parallel(n_jobs=1)]: Done   1 out of   1 | elapsed:   16.7s remaining:    0.0s\n"
     ]
    },
    {
     "name": "stdout",
     "output_type": "stream",
     "text": [
      "[CV] ................................... C=0.1, gamma=1, total=  16.5s\n",
      "[CV] C=0.1, gamma=1 ..................................................\n",
      "[CV] ................................... C=0.1, gamma=1, total=  16.6s\n",
      "[CV] C=0.1, gamma=1 ..................................................\n",
      "[CV] ................................... C=0.1, gamma=1, total=  16.9s\n",
      "[CV] C=0.1, gamma=1 ..................................................\n",
      "[CV] ................................... C=0.1, gamma=1, total=  16.9s\n",
      "[CV] C=0.1, gamma=0.1 ................................................\n",
      "[CV] ................................. C=0.1, gamma=0.1, total=  16.6s\n",
      "[CV] C=0.1, gamma=0.1 ................................................\n",
      "[CV] ................................. C=0.1, gamma=0.1, total=  16.5s\n",
      "[CV] C=0.1, gamma=0.1 ................................................\n",
      "[CV] ................................. C=0.1, gamma=0.1, total=  16.6s\n",
      "[CV] C=0.1, gamma=0.1 ................................................\n",
      "[CV] ................................. C=0.1, gamma=0.1, total=  16.7s\n",
      "[CV] C=0.1, gamma=0.1 ................................................\n",
      "[CV] ................................. C=0.1, gamma=0.1, total=  16.8s\n",
      "[CV] C=0.1, gamma=0.01 ...............................................\n",
      "[CV] ................................ C=0.1, gamma=0.01, total=  18.8s\n",
      "[CV] C=0.1, gamma=0.01 ...............................................\n",
      "[CV] ................................ C=0.1, gamma=0.01, total=  19.4s\n",
      "[CV] C=0.1, gamma=0.01 ...............................................\n",
      "[CV] ................................ C=0.1, gamma=0.01, total=  16.6s\n",
      "[CV] C=0.1, gamma=0.01 ...............................................\n",
      "[CV] ................................ C=0.1, gamma=0.01, total=  16.8s\n",
      "[CV] C=0.1, gamma=0.01 ...............................................\n",
      "[CV] ................................ C=0.1, gamma=0.01, total=  17.3s\n",
      "[CV] C=0.1, gamma=0.001 ..............................................\n",
      "[CV] ............................... C=0.1, gamma=0.001, total=  16.6s\n",
      "[CV] C=0.1, gamma=0.001 ..............................................\n",
      "[CV] ............................... C=0.1, gamma=0.001, total=  16.9s\n",
      "[CV] C=0.1, gamma=0.001 ..............................................\n",
      "[CV] ............................... C=0.1, gamma=0.001, total=  16.5s\n",
      "[CV] C=0.1, gamma=0.001 ..............................................\n",
      "[CV] ............................... C=0.1, gamma=0.001, total=  16.6s\n",
      "[CV] C=0.1, gamma=0.001 ..............................................\n",
      "[CV] ............................... C=0.1, gamma=0.001, total=  16.6s\n",
      "[CV] C=1, gamma=1 ....................................................\n",
      "[CV] ..................................... C=1, gamma=1, total=  16.7s\n",
      "[CV] C=1, gamma=1 ....................................................\n",
      "[CV] ..................................... C=1, gamma=1, total=  16.6s\n",
      "[CV] C=1, gamma=1 ....................................................\n",
      "[CV] ..................................... C=1, gamma=1, total=  16.7s\n",
      "[CV] C=1, gamma=1 ....................................................\n",
      "[CV] ..................................... C=1, gamma=1, total=  16.6s\n",
      "[CV] C=1, gamma=1 ....................................................\n",
      "[CV] ..................................... C=1, gamma=1, total=  16.6s\n",
      "[CV] C=1, gamma=0.1 ..................................................\n",
      "[CV] ................................... C=1, gamma=0.1, total=  16.6s\n",
      "[CV] C=1, gamma=0.1 ..................................................\n",
      "[CV] ................................... C=1, gamma=0.1, total=  16.6s\n",
      "[CV] C=1, gamma=0.1 ..................................................\n",
      "[CV] ................................... C=1, gamma=0.1, total=  16.6s\n",
      "[CV] C=1, gamma=0.1 ..................................................\n",
      "[CV] ................................... C=1, gamma=0.1, total=  16.6s\n",
      "[CV] C=1, gamma=0.1 ..................................................\n",
      "[CV] ................................... C=1, gamma=0.1, total=  16.9s\n",
      "[CV] C=1, gamma=0.01 .................................................\n",
      "[CV] .................................. C=1, gamma=0.01, total=  16.6s\n",
      "[CV] C=1, gamma=0.01 .................................................\n",
      "[CV] .................................. C=1, gamma=0.01, total=  16.6s\n",
      "[CV] C=1, gamma=0.01 .................................................\n",
      "[CV] .................................. C=1, gamma=0.01, total=  16.7s\n",
      "[CV] C=1, gamma=0.01 .................................................\n",
      "[CV] .................................. C=1, gamma=0.01, total=  17.0s\n",
      "[CV] C=1, gamma=0.01 .................................................\n",
      "[CV] .................................. C=1, gamma=0.01, total=  16.7s\n",
      "[CV] C=1, gamma=0.001 ................................................\n",
      "[CV] ................................. C=1, gamma=0.001, total=  16.6s\n",
      "[CV] C=1, gamma=0.001 ................................................\n",
      "[CV] ................................. C=1, gamma=0.001, total=  17.0s\n",
      "[CV] C=1, gamma=0.001 ................................................\n",
      "[CV] ................................. C=1, gamma=0.001, total=  17.7s\n",
      "[CV] C=1, gamma=0.001 ................................................\n",
      "[CV] ................................. C=1, gamma=0.001, total=  16.6s\n",
      "[CV] C=1, gamma=0.001 ................................................\n",
      "[CV] ................................. C=1, gamma=0.001, total=  16.6s\n",
      "[CV] C=10, gamma=1 ...................................................\n",
      "[CV] .................................... C=10, gamma=1, total=  16.6s\n",
      "[CV] C=10, gamma=1 ...................................................\n",
      "[CV] .................................... C=10, gamma=1, total=  16.6s\n",
      "[CV] C=10, gamma=1 ...................................................\n",
      "[CV] .................................... C=10, gamma=1, total=  16.6s\n",
      "[CV] C=10, gamma=1 ...................................................\n",
      "[CV] .................................... C=10, gamma=1, total=  16.6s\n",
      "[CV] C=10, gamma=1 ...................................................\n",
      "[CV] .................................... C=10, gamma=1, total=  16.8s\n",
      "[CV] C=10, gamma=0.1 .................................................\n",
      "[CV] .................................. C=10, gamma=0.1, total=  16.6s\n",
      "[CV] C=10, gamma=0.1 .................................................\n",
      "[CV] .................................. C=10, gamma=0.1, total=  16.6s\n",
      "[CV] C=10, gamma=0.1 .................................................\n",
      "[CV] .................................. C=10, gamma=0.1, total=  16.8s\n",
      "[CV] C=10, gamma=0.1 .................................................\n",
      "[CV] .................................. C=10, gamma=0.1, total=  16.6s\n",
      "[CV] C=10, gamma=0.1 .................................................\n",
      "[CV] .................................. C=10, gamma=0.1, total=  16.6s\n",
      "[CV] C=10, gamma=0.01 ................................................\n",
      "[CV] ................................. C=10, gamma=0.01, total=  16.6s\n",
      "[CV] C=10, gamma=0.01 ................................................\n",
      "[CV] ................................. C=10, gamma=0.01, total=  16.6s\n",
      "[CV] C=10, gamma=0.01 ................................................\n",
      "[CV] ................................. C=10, gamma=0.01, total=  16.6s\n",
      "[CV] C=10, gamma=0.01 ................................................\n",
      "[CV] ................................. C=10, gamma=0.01, total=  16.6s\n",
      "[CV] C=10, gamma=0.01 ................................................\n",
      "[CV] ................................. C=10, gamma=0.01, total=  16.6s\n",
      "[CV] C=10, gamma=0.001 ...............................................\n",
      "[CV] ................................ C=10, gamma=0.001, total=  16.6s\n",
      "[CV] C=10, gamma=0.001 ...............................................\n",
      "[CV] ................................ C=10, gamma=0.001, total=  16.6s\n",
      "[CV] C=10, gamma=0.001 ...............................................\n",
      "[CV] ................................ C=10, gamma=0.001, total=  16.6s\n",
      "[CV] C=10, gamma=0.001 ...............................................\n",
      "[CV] ................................ C=10, gamma=0.001, total=  16.6s\n",
      "[CV] C=10, gamma=0.001 ...............................................\n",
      "[CV] ................................ C=10, gamma=0.001, total=  16.6s\n",
      "[CV] C=100, gamma=1 ..................................................\n",
      "[CV] ................................... C=100, gamma=1, total=  16.6s\n",
      "[CV] C=100, gamma=1 ..................................................\n",
      "[CV] ................................... C=100, gamma=1, total=  16.6s\n",
      "[CV] C=100, gamma=1 ..................................................\n",
      "[CV] ................................... C=100, gamma=1, total=  16.7s\n",
      "[CV] C=100, gamma=1 ..................................................\n",
      "[CV] ................................... C=100, gamma=1, total=  17.1s\n",
      "[CV] C=100, gamma=1 ..................................................\n",
      "[CV] ................................... C=100, gamma=1, total=  17.0s\n",
      "[CV] C=100, gamma=0.1 ................................................\n",
      "[CV] ................................. C=100, gamma=0.1, total=  17.4s\n",
      "[CV] C=100, gamma=0.1 ................................................\n",
      "[CV] ................................. C=100, gamma=0.1, total=  17.0s\n",
      "[CV] C=100, gamma=0.1 ................................................\n",
      "[CV] ................................. C=100, gamma=0.1, total=  17.0s\n",
      "[CV] C=100, gamma=0.1 ................................................\n",
      "[CV] ................................. C=100, gamma=0.1, total=  17.0s\n",
      "[CV] C=100, gamma=0.1 ................................................\n",
      "[CV] ................................. C=100, gamma=0.1, total=  17.0s\n",
      "[CV] C=100, gamma=0.01 ...............................................\n",
      "[CV] ................................ C=100, gamma=0.01, total=  17.0s\n",
      "[CV] C=100, gamma=0.01 ...............................................\n",
      "[CV] ................................ C=100, gamma=0.01, total=  17.0s\n",
      "[CV] C=100, gamma=0.01 ...............................................\n",
      "[CV] ................................ C=100, gamma=0.01, total=  17.0s\n",
      "[CV] C=100, gamma=0.01 ...............................................\n",
      "[CV] ................................ C=100, gamma=0.01, total=  17.0s\n",
      "[CV] C=100, gamma=0.01 ...............................................\n",
      "[CV] ................................ C=100, gamma=0.01, total=  17.0s\n",
      "[CV] C=100, gamma=0.001 ..............................................\n",
      "[CV] ............................... C=100, gamma=0.001, total=  17.0s\n",
      "[CV] C=100, gamma=0.001 ..............................................\n",
      "[CV] ............................... C=100, gamma=0.001, total=  17.0s\n",
      "[CV] C=100, gamma=0.001 ..............................................\n",
      "[CV] ............................... C=100, gamma=0.001, total=  17.0s\n",
      "[CV] C=100, gamma=0.001 ..............................................\n",
      "[CV] ............................... C=100, gamma=0.001, total=  17.0s\n",
      "[CV] C=100, gamma=0.001 ..............................................\n",
      "[CV] ............................... C=100, gamma=0.001, total=  17.0s\n"
     ]
    },
    {
     "name": "stderr",
     "output_type": "stream",
     "text": [
      "[Parallel(n_jobs=1)]: Done  80 out of  80 | elapsed: 22.4min finished\n"
     ]
    },
    {
     "data": {
      "text/plain": [
       "GridSearchCV(cv=None, error_score=nan,\n",
       "             estimator=SVC(C=1.0, break_ties=False, cache_size=200,\n",
       "                           class_weight=None, coef0=0.0,\n",
       "                           decision_function_shape='ovr', degree=3,\n",
       "                           gamma='scale', kernel='rbf', max_iter=-1,\n",
       "                           probability=False, random_state=None, shrinking=True,\n",
       "                           tol=0.001, verbose=False),\n",
       "             iid='deprecated', n_jobs=None,\n",
       "             param_grid={'C': [0.1, 1, 10, 100],\n",
       "                         'gamma': [1, 0.1, 0.01, 0.001]},\n",
       "             pre_dispatch='2*n_jobs', refit=True, return_train_score=False,\n",
       "             scoring=None, verbose=2)"
      ]
     },
     "execution_count": 98,
     "metadata": {},
     "output_type": "execute_result"
    }
   ],
   "source": [
    "#GRID SEARCH\n",
    "from sklearn.model_selection import GridSearchCV\n",
    "param_grid = {'C':[0.1,1,10,100],'gamma':[1,0.1,0.01,0.001]}\n",
    "grid = GridSearchCV(SVC(),param_grid,verbose=2)\n",
    "grid.fit(xtrain,ytrain)"
   ]
  },
  {
   "cell_type": "code",
   "execution_count": 99,
   "metadata": {},
   "outputs": [
    {
     "name": "stdout",
     "output_type": "stream",
     "text": [
      "[[  0   0   0  77   0   0]\n",
      " [  0   0   0 113   0   0]\n",
      " [  0   0   0  84   0   0]\n",
      " [  0   0   0 118   0   0]\n",
      " [  0   0   0  88   0   0]\n",
      " [  0   0   0  26   0   0]]\n",
      "              precision    recall  f1-score   support\n",
      "\n",
      "           0       0.83      0.88      0.86        77\n",
      "           1       0.85      0.87      0.86       113\n",
      "           2       0.91      0.88      0.90        84\n",
      "           3       0.95      0.88      0.92       118\n",
      "           4       0.85      0.92      0.89        88\n",
      "           5       0.88      0.81      0.84        26\n",
      "\n",
      "    accuracy                           0.88       506\n",
      "   macro avg       0.88      0.87      0.88       506\n",
      "weighted avg       0.88      0.88      0.88       506\n",
      "\n"
     ]
    }
   ],
   "source": [
    "\n",
    "grid_predictions = grid.predict(xtest)\n",
    "print(confusion_matrix(ytest,grid_predictions))\n",
    "print(classification_report(ytest, predictions))"
   ]
  },
  {
   "cell_type": "code",
   "execution_count": 102,
   "metadata": {},
   "outputs": [
    {
     "data": {
      "text/plain": [
       "'we can see that the results for precision, recall,f1-score,support,weighted avg\\nmacro avg,accuracy all the results are exactly same for the before and after state\\nof the grid search. It took around 22 mins to execute the grid search.'"
      ]
     },
     "execution_count": 102,
     "metadata": {},
     "output_type": "execute_result"
    }
   ],
   "source": [
    "\"\"\"we can see that the results for precision, recall,f1-score,support,weighted avg\n",
    "macro avg,accuracy all the results are exactly same for the before and after state\n",
    "of the grid search. It took around 22 mins to execute the grid search.\"\"\""
   ]
  },
  {
   "cell_type": "code",
   "execution_count": 125,
   "metadata": {},
   "outputs": [
    {
     "name": "stdout",
     "output_type": "stream",
     "text": [
      "<class 'list'>\n"
     ]
    }
   ],
   "source": [
    "print (type(data))"
   ]
  },
  {
   "cell_type": "code",
   "execution_count": 136,
   "metadata": {},
   "outputs": [],
   "source": [
    "from sklearn.metrics import classification_report, confusion_matrix"
   ]
  },
  {
   "cell_type": "code",
   "execution_count": 140,
   "metadata": {},
   "outputs": [
    {
     "data": {
      "text/plain": [
       "array([1, 0, 5, 1, 2, 1, 3, 1, 0, 3, 2, 3, 4, 0, 3, 3, 2, 1, 3, 4, 4, 4,\n",
       "       1, 1, 1, 3, 4, 2, 4, 1, 2, 2, 5, 1, 1, 3, 3, 1, 2, 3, 3, 0, 1, 2,\n",
       "       3, 4, 3, 5, 1, 0, 4, 2, 5, 3, 4, 3, 1, 2, 1, 1, 1, 4, 0, 2, 2, 3,\n",
       "       1, 0, 4, 1, 2, 3, 0, 1, 2, 1, 2, 1, 0, 3, 0, 0, 4, 4, 2, 4, 1, 0,\n",
       "       2, 0, 0, 0, 3, 0, 1, 4, 4, 4, 3, 2, 1, 3, 0, 0, 4, 3, 1, 2, 3, 1,\n",
       "       5, 3, 3, 4, 1, 3, 3, 3, 3, 1, 4, 5, 3, 4, 1, 4, 1, 2, 0, 4, 5, 0,\n",
       "       1, 1, 1, 2, 2, 3, 1, 2, 1, 1, 0, 0, 2, 3, 5, 0, 5, 1, 1, 4, 1, 0,\n",
       "       2, 3, 2, 1, 0, 4, 2, 2, 1, 4, 3, 0, 2, 2, 1, 3, 1, 2, 1, 1, 1, 5,\n",
       "       2, 2, 4, 2, 4, 4, 0, 0, 4, 0, 3, 4, 4, 4, 2, 3, 1, 4, 2, 4, 1, 2,\n",
       "       3, 3, 4, 0, 3, 0, 1, 0, 2, 4, 2, 2, 1, 3, 0, 5, 1, 4, 3, 0, 4, 1,\n",
       "       3, 3, 4, 2, 1, 1, 0, 0, 0, 1, 3, 0, 3, 4, 5, 1, 4, 2, 1, 4, 1, 0,\n",
       "       2, 0, 1, 4, 4, 0, 3, 1, 4, 3, 2, 1, 2, 4, 1, 3, 4, 4, 2, 1, 3, 3,\n",
       "       4, 2, 1, 1, 2, 4, 0, 2, 4, 2, 1, 0, 4, 5, 3, 4, 3, 2, 1, 0, 0, 4,\n",
       "       0, 0, 4, 2, 1, 4, 4, 4, 4, 1, 1, 0, 5, 1, 1, 1, 3, 3, 4, 3, 1, 3,\n",
       "       2, 3, 3, 2, 3, 0, 1, 2, 4, 3, 5, 0, 3, 0, 4, 0, 1, 0, 5, 0, 3, 1,\n",
       "       4, 2, 3, 1, 3, 3, 2, 1, 1, 1, 0, 1, 4, 3, 3, 0, 0, 0, 1, 3, 4, 0,\n",
       "       0, 3, 0, 3, 5, 4, 4, 1, 4, 1, 0, 4, 4, 3, 3, 2, 4, 4, 0, 1, 2, 3,\n",
       "       3, 1, 0, 3, 3, 2, 1, 4, 0, 4, 0, 2, 4, 4, 2, 2, 3, 1, 1, 3, 2, 1,\n",
       "       1, 2, 4, 2, 3, 3, 4, 1, 0, 4, 1, 2, 3, 1, 2, 1, 3, 1, 0, 2, 3, 1,\n",
       "       5, 0, 2, 0, 5, 0, 3, 3, 4, 4, 1, 4, 3, 4, 1, 2, 3, 1, 3, 4, 2, 4,\n",
       "       1, 0, 4, 4, 5, 3, 3, 3, 3, 3, 0, 3, 5, 4, 3, 2, 1, 5, 3, 1, 0, 4,\n",
       "       0, 3, 0, 4, 2, 1, 3, 1, 3, 1, 2, 5, 3, 1, 2, 1, 1, 3, 4, 3, 0, 2,\n",
       "       3, 0, 3, 2, 0, 2, 4, 2, 0, 2, 0, 5, 3, 0, 4, 3, 1, 4, 1, 3, 1, 3])"
      ]
     },
     "execution_count": 140,
     "metadata": {},
     "output_type": "execute_result"
    }
   ],
   "source": [
    "ytest = model.predict(xtest)\n",
    "prediction"
   ]
  },
  {
   "cell_type": "code",
   "execution_count": 154,
   "metadata": {},
   "outputs": [
    {
     "data": {
      "text/plain": [
       "<matplotlib.axes._subplots.AxesSubplot at 0x29acf1fc908>"
      ]
     },
     "execution_count": 154,
     "metadata": {},
     "output_type": "execute_result"
    },
    {
     "data": {
      "image/png": "[encoded data removed]",
      "text/plain": [
       "<Figure size 720x720 with 2 Axes>"
      ]
     },
     "metadata": {
      "needs_background": "light"
     },
     "output_type": "display_data"
    }
   ],
   "source": [
    "plt.figure(figsize=(10,10))\n",
    "cm = confusion_matrix(ytest,grid_predictions)\n",
    "sns.heatmap(cm, annot=True, fmt=\"d\")"
   ]
  },
  {
   "cell_type": "code",
   "execution_count": 153,
   "metadata": {},
   "outputs": [
    {
     "data": {
      "text/plain": [
       "<matplotlib.axes._subplots.AxesSubplot at 0x29acf0ce7c8>"
      ]
     },
     "execution_count": 153,
     "metadata": {},
     "output_type": "execute_result"
    },
    {
     "data": {
      "image/png": "[encoded data removed]",
      "text/plain": [
       "<Figure size 720x720 with 2 Axes>"
      ]
     },
     "metadata": {
      "needs_background": "light"
     },
     "output_type": "display_data"
    }
   ],
   "source": [
    "plt.figure(figsize=(10,10))\n",
    "cm = confusion_matrix(ytest,prediction)\n",
    "sns.heatmap(cm, annot=True, fmt=\"d\")"
   ]
  },
  {
   "cell_type": "code",
   "execution_count": 174,
   "metadata": {
    "scrolled": true
   },
   "outputs": [
    {
     "name": "stdout",
     "output_type": "stream",
     "text": [
      "score 0.5375494071146245\n",
      "{'C': 10, 'kernel': 'rbf'}\n",
      "Wall time: 19min 43s\n"
     ]
    }
   ],
   "source": [
    "%%time\n",
    "from sklearn.svm import SVC\n",
    "from sklearn.model_selection import GridSearchCV\n",
    "\n",
    "parameters = {'kernel':['linear', 'rbf', 'poly'], 'C':[0.1, 0.5, 1, 5, 10]}\n",
    "\n",
    "clf = GridSearchCV(SVC(), parameters)\n",
    "clf.fit(xtrain, ytrain)\n",
    "print('score',clf.score(xtest, ytest))\n",
    "print(clf.best_params_)"
   ]
  },
  {
   "cell_type": "code",
   "execution_count": 177,
   "metadata": {},
   "outputs": [
    {
     "data": {
      "text/plain": [
       "\"   score 0.5375494071146245\\n{'C': 10, 'kernel': 'rbf'}\\nWall time: 19min 43s   \""
      ]
     },
     "execution_count": 177,
     "metadata": {},
     "output_type": "execute_result"
    }
   ],
   "source": [
    "\"\"\"   score 0.5375494071146245\n",
    "{'C': 10, 'kernel': 'rbf'}\n",
    "Wall time: 19min 43s   \"\"\""
   ]
  },
  {
   "cell_type": "code",
   "execution_count": 195,
   "metadata": {},
   "outputs": [],
   "source": [
    "xtrain, xtest, ytrain,ytest = train_test_split (features, labels, train_size=0.80, test_size=0.20)\n"
   ]
  },
  {
   "cell_type": "code",
   "execution_count": 186,
   "metadata": {},
   "outputs": [
    {
     "data": {
      "text/plain": [
       "SVC(C=10, break_ties=False, cache_size=200, class_weight=None, coef0=0.0,\n",
       "    decision_function_shape='ovr', degree=3, gamma='auto', kernel='rbf',\n",
       "    max_iter=-1, probability=False, random_state=None, shrinking=True,\n",
       "    tol=0.001, verbose=False)"
      ]
     },
     "execution_count": 186,
     "metadata": {},
     "output_type": "execute_result"
    }
   ],
   "source": [
    "model= SVC(C=10,kernel='rbf', gamma='auto')\n",
    "model.fit(xtrain, ytrain)"
   ]
  },
  {
   "cell_type": "code",
   "execution_count": 187,
   "metadata": {},
   "outputs": [],
   "source": [
    "#passing the latest recommended attributes"
   ]
  },
  {
   "cell_type": "code",
   "execution_count": 188,
   "metadata": {},
   "outputs": [],
   "source": [
    "pick= open('model5.sav','wb')\n",
    "pickle.dump(model,pick)\n",
    "pick.close()\n"
   ]
  },
  {
   "cell_type": "code",
   "execution_count": 196,
   "metadata": {},
   "outputs": [],
   "source": [
    "pick= open('model5.sav','rb')\n",
    "model=pickle.load(pick)\n",
    "pick.close()"
   ]
  },
  {
   "cell_type": "code",
   "execution_count": 197,
   "metadata": {},
   "outputs": [
    {
     "name": "stdout",
     "output_type": "stream",
     "text": [
      "Accuracy :  0.849802371541502\n",
      "Prediction is : paper\n"
     ]
    },
    {
     "data": {
      "image/png": "[encoded data removed]",
      "text/plain": [
       "<Figure size 432x288 with 1 Axes>"
      ]
     },
     "metadata": {
      "needs_background": "light"
     },
     "output_type": "display_data"
    }
   ],
   "source": [
    "random.shuffle(data)\n",
    "prediction= model.predict(xtest)\n",
    "accuracy = model.score (xtest, ytest)\n",
    "\n",
    "categories = ['cardboard','glass','metal','paper','plastic','trash']\n",
    "\n",
    "print('Accuracy : ', accuracy)\n",
    "print('Prediction is :',categories[prediction[0]])\n",
    "\n",
    "\n",
    "\n",
    "trash=xtest[0].reshape(50,50)\n",
    "plt.imshow(trash, cmap='gray')\n",
    "plt.show()\n",
    "\n",
    "  "
   ]
  },
  {
   "cell_type": "code",
   "execution_count": 198,
   "metadata": {},
   "outputs": [
    {
     "name": "stdout",
     "output_type": "stream",
     "text": [
      "[[ 56   0   0  16   0   0]\n",
      " [  0  89   0  21   0   0]\n",
      " [  0   0  65  16   0   0]\n",
      " [  0   0   0 112   0   0]\n",
      " [  0   1   0  16  79   0]\n",
      " [  0   0   0   6   0  29]]\n",
      "              precision    recall  f1-score   support\n",
      "\n",
      "           0       1.00      0.78      0.88        72\n",
      "           1       0.99      0.81      0.89       110\n",
      "           2       1.00      0.80      0.89        81\n",
      "           3       0.60      1.00      0.75       112\n",
      "           4       1.00      0.82      0.90        96\n",
      "           5       1.00      0.83      0.91        35\n",
      "\n",
      "    accuracy                           0.85       506\n",
      "   macro avg       0.93      0.84      0.87       506\n",
      "weighted avg       0.91      0.85      0.86       506\n",
      "\n"
     ]
    }
   ],
   "source": [
    "#CONFUSION MATRIX\n",
    "from sklearn.svm import SVC\n",
    "predictions = model.predict(xtest)\n",
    "from sklearn.metrics import classification_report,confusion_matrix\n",
    "print(confusion_matrix(ytest, predictions))\n",
    "print(classification_report(ytest, predictions))"
   ]
  },
  {
   "cell_type": "code",
   "execution_count": 199,
   "metadata": {},
   "outputs": [
    {
     "data": {
      "text/plain": [
       "<matplotlib.axes._subplots.AxesSubplot at 0x29acfb02c08>"
      ]
     },
     "execution_count": 199,
     "metadata": {},
     "output_type": "execute_result"
    },
    {
     "data": {
      "image/png": "[encoded data removed]",
      "text/plain": [
       "<Figure size 720x720 with 2 Axes>"
      ]
     },
     "metadata": {
      "needs_background": "light"
     },
     "output_type": "display_data"
    }
   ],
   "source": [
    "plt.figure(figsize=(10,10))\n",
    "cm = confusion_matrix(ytest,prediction)\n",
    "sns.heatmap(cm, annot=True, fmt=\"d\")"
   ]
  },
  {
   "cell_type": "code",
   "execution_count": 200,
   "metadata": {},
   "outputs": [],
   "source": [
    "#here we can see by changing the attributes, we got a different result for accuracy as well as other parameters"
   ]
  },
  {
   "cell_type": "code",
   "execution_count": null,
   "metadata": {},
   "outputs": [],
   "source": []
  },
  {
   "cell_type": "code",
   "execution_count": null,
   "metadata": {},
   "outputs": [],
   "source": []
  },
  {
   "cell_type": "code",
   "execution_count": 176,
   "metadata": {},
   "outputs": [
    {
     "name": "stdout",
     "output_type": "stream",
     "text": [
      "[[  0   0   0  82   0   0]\n",
      " [  0   0   0 115   0   0]\n",
      " [  0   0   0  81   0   0]\n",
      " [  0   0   0 109   0   0]\n",
      " [  0   0   0  95   0   0]\n",
      " [  0   0   0  24   0   0]]\n",
      "              precision    recall  f1-score   support\n",
      "\n",
      "           0       1.00      1.00      1.00        82\n",
      "           1       1.00      1.00      1.00       115\n",
      "           2       1.00      1.00      1.00        81\n",
      "           3       1.00      1.00      1.00       109\n",
      "           4       1.00      1.00      1.00        95\n",
      "           5       1.00      1.00      1.00        24\n",
      "\n",
      "    accuracy                           1.00       506\n",
      "   macro avg       1.00      1.00      1.00       506\n",
      "weighted avg       1.00      1.00      1.00       506\n",
      "\n"
     ]
    }
   ],
   "source": [
    "#Tried different attributes this time\n",
    "\n",
    "grid_predictions = grid.predict(xtest)\n",
    "print(confusion_matrix(ytest,grid_predictions))\n",
    "print(classification_report(ytest, predictions))\n"
   ]
  },
  {
   "cell_type": "code",
   "execution_count": 160,
   "metadata": {
    "collapsed": true
   },
   "outputs": [
    {
     "name": "stdout",
     "output_type": "stream",
     "text": [
      "[0.79039151 1.45918433 1.88477976 0.79039151 0.12159869 0.79039151\n",
      " 0.54719412 0.79039151 1.45918433 0.54719412 0.12159869 0.54719412\n",
      " 1.21598694 1.45918433 0.54719412 0.54719412 0.12159869 0.79039151\n",
      " 0.54719412 1.21598694 1.21598694 1.21598694 0.79039151 0.79039151\n",
      " 0.79039151 0.54719412 1.21598694 0.12159869 1.21598694 0.79039151\n",
      " 0.12159869 0.12159869 1.88477976 0.79039151 0.79039151 0.54719412\n",
      " 0.54719412 0.79039151 0.12159869 0.54719412 0.54719412 1.45918433\n",
      " 0.79039151 0.12159869 0.54719412 1.21598694 0.54719412 1.88477976\n",
      " 0.79039151 1.45918433 1.21598694 0.12159869 1.88477976 0.54719412\n",
      " 1.21598694 0.54719412 0.79039151 0.12159869 0.79039151 0.79039151\n",
      " 0.79039151 1.21598694 1.45918433 0.12159869 0.12159869 0.54719412\n",
      " 0.79039151 1.45918433 1.21598694 0.79039151 0.12159869 0.54719412\n",
      " 1.45918433 0.79039151 0.12159869 0.79039151 0.12159869 0.79039151\n",
      " 1.45918433 0.54719412 1.45918433 1.45918433 1.21598694 1.21598694\n",
      " 0.12159869 1.21598694 0.79039151 1.45918433 0.12159869 1.45918433\n",
      " 1.45918433 1.45918433 0.54719412 1.45918433 0.79039151 1.21598694\n",
      " 1.21598694 1.21598694 0.54719412 0.12159869 0.79039151 0.54719412\n",
      " 1.45918433 1.45918433 1.21598694 0.54719412 0.79039151 0.12159869\n",
      " 0.54719412 0.79039151 1.88477976 0.54719412 0.54719412 1.21598694\n",
      " 0.79039151 0.54719412 0.54719412 0.54719412 0.54719412 0.79039151\n",
      " 1.21598694 1.88477976 0.54719412 1.21598694 0.79039151 1.21598694\n",
      " 0.79039151 0.12159869 1.45918433 1.21598694 1.88477976 1.45918433\n",
      " 0.79039151 0.79039151 0.79039151 0.12159869 0.12159869 0.54719412\n",
      " 0.79039151 0.12159869 0.79039151 0.79039151 1.45918433 1.45918433\n",
      " 0.12159869 0.54719412 1.88477976 1.45918433 1.88477976 0.79039151\n",
      " 0.79039151 1.21598694 0.79039151 1.45918433 0.12159869 0.54719412\n",
      " 0.12159869 0.79039151 1.45918433 1.21598694 0.12159869 0.12159869\n",
      " 0.79039151 1.21598694 0.54719412 1.45918433 0.12159869 0.12159869\n",
      " 0.79039151 0.54719412 0.79039151 0.12159869 0.79039151 0.79039151\n",
      " 0.79039151 1.88477976 0.12159869 0.12159869 1.21598694 0.12159869\n",
      " 1.21598694 1.21598694 1.45918433 1.45918433 1.21598694 1.45918433\n",
      " 0.54719412 1.21598694 1.21598694 1.21598694 0.12159869 0.54719412\n",
      " 0.79039151 1.21598694 0.12159869 1.21598694 0.79039151 0.12159869\n",
      " 0.54719412 0.54719412 1.21598694 1.45918433 0.54719412 1.45918433\n",
      " 0.79039151 1.45918433 0.12159869 1.21598694 0.12159869 0.12159869\n",
      " 0.79039151 0.54719412 1.45918433 1.88477976 0.79039151 1.21598694\n",
      " 0.54719412 1.45918433 1.21598694 0.79039151 0.54719412 0.54719412\n",
      " 1.21598694 0.12159869 0.79039151 0.79039151 1.45918433 1.45918433\n",
      " 1.45918433 0.79039151 0.54719412 1.45918433 0.54719412 1.21598694\n",
      " 1.88477976 0.79039151 1.21598694 0.12159869 0.79039151 1.21598694\n",
      " 0.79039151 1.45918433 0.12159869 1.45918433 0.79039151 1.21598694\n",
      " 1.21598694 1.45918433 0.54719412 0.79039151 1.21598694 0.54719412\n",
      " 0.12159869 0.79039151 0.12159869 1.21598694 0.79039151 0.54719412\n",
      " 1.21598694 1.21598694 0.12159869 0.79039151 0.54719412 0.54719412\n",
      " 1.21598694 0.12159869 0.79039151 0.79039151 0.12159869 1.21598694\n",
      " 1.45918433 0.12159869 1.21598694 0.12159869 0.79039151 1.45918433\n",
      " 1.21598694 1.88477976 0.54719412 1.21598694 0.54719412 0.12159869\n",
      " 0.79039151 1.45918433 1.45918433 1.21598694 1.45918433 1.45918433\n",
      " 1.21598694 0.12159869 0.79039151 1.21598694 1.21598694 1.21598694\n",
      " 1.21598694 0.79039151 0.79039151 1.45918433 1.88477976 0.79039151\n",
      " 0.79039151 0.79039151 0.54719412 0.54719412 1.21598694 0.54719412\n",
      " 0.79039151 0.54719412 0.12159869 0.54719412 0.54719412 0.12159869\n",
      " 0.54719412 1.45918433 0.79039151 0.12159869 1.21598694 0.54719412\n",
      " 1.88477976 1.45918433 0.54719412 1.45918433 1.21598694 1.45918433\n",
      " 0.79039151 1.45918433 1.88477976 1.45918433 0.54719412 0.79039151\n",
      " 1.21598694 0.12159869 0.54719412 0.79039151 0.54719412 0.54719412\n",
      " 0.12159869 0.79039151 0.79039151 0.79039151 1.45918433 0.79039151\n",
      " 1.21598694 0.54719412 0.54719412 1.45918433 1.45918433 1.45918433\n",
      " 0.79039151 0.54719412 1.21598694 1.45918433 1.45918433 0.54719412\n",
      " 1.45918433 0.54719412 1.88477976 1.21598694 1.21598694 0.79039151\n",
      " 1.21598694 0.79039151 1.45918433 1.21598694 1.21598694 0.54719412\n",
      " 0.54719412 0.12159869 1.21598694 1.21598694 1.45918433 0.79039151\n",
      " 0.12159869 0.54719412 0.54719412 0.79039151 1.45918433 0.54719412\n",
      " 0.54719412 0.12159869 0.79039151 1.21598694 1.45918433 1.21598694\n",
      " 1.45918433 0.12159869 1.21598694 1.21598694 0.12159869 0.12159869\n",
      " 0.54719412 0.79039151 0.79039151 0.54719412 0.12159869 0.79039151\n",
      " 0.79039151 0.12159869 1.21598694 0.12159869 0.54719412 0.54719412\n",
      " 1.21598694 0.79039151 1.45918433 1.21598694 0.79039151 0.12159869\n",
      " 0.54719412 0.79039151 0.12159869 0.79039151 0.54719412 0.79039151\n",
      " 1.45918433 0.12159869 0.54719412 0.79039151 1.88477976 1.45918433\n",
      " 0.12159869 1.45918433 1.88477976 1.45918433 0.54719412 0.54719412\n",
      " 1.21598694 1.21598694 0.79039151 1.21598694 0.54719412 1.21598694\n",
      " 0.79039151 0.12159869 0.54719412 0.79039151 0.54719412 1.21598694\n",
      " 0.12159869 1.21598694 0.79039151 1.45918433 1.21598694 1.21598694\n",
      " 1.88477976 0.54719412 0.54719412 0.54719412 0.54719412 0.54719412\n",
      " 1.45918433 0.54719412 1.88477976 1.21598694 0.54719412 0.12159869\n",
      " 0.79039151 1.88477976 0.54719412 0.79039151 1.45918433 1.21598694\n",
      " 1.45918433 0.54719412 1.45918433 1.21598694 0.12159869 0.79039151\n",
      " 0.54719412 0.79039151 0.54719412 0.79039151 0.12159869 1.88477976\n",
      " 0.54719412 0.79039151 0.12159869 0.79039151 0.79039151 0.54719412\n",
      " 1.21598694 0.54719412 1.45918433 0.12159869 0.54719412 1.45918433\n",
      " 0.54719412 0.12159869 1.45918433 0.12159869 1.21598694 0.12159869\n",
      " 1.45918433 0.12159869 1.45918433 1.88477976 0.54719412 1.45918433\n",
      " 1.21598694 0.54719412 0.79039151 1.21598694 0.79039151 0.54719412\n",
      " 0.79039151 0.54719412]\n"
     ]
    }
   ],
   "source": [
    "\n",
    "# determining outliers using Z scores where mean is  '0' and Standard deviation is '1'\n",
    "\n",
    "from scipy import stats\n",
    "import numpy as np\n",
    "z = np.abs(stats.zscore(ytest))\n",
    "print(z)"
   ]
  },
  {
   "cell_type": "code",
   "execution_count": 161,
   "metadata": {},
   "outputs": [
    {
     "name": "stdout",
     "output_type": "stream",
     "text": [
      "(array([], dtype=int64),)\n"
     ]
    }
   ],
   "source": [
    "# defining threshold as 3 to identify any outliers above 3\n",
    "threshold = 3\n",
    "print(np.where(z > 3))"
   ]
  },
  {
   "cell_type": "code",
   "execution_count": null,
   "metadata": {},
   "outputs": [],
   "source": []
  },
  {
   "cell_type": "code",
   "execution_count": null,
   "metadata": {},
   "outputs": [],
   "source": []
  }
 ],
 "metadata": {
  "accelerator": "GPU",
  "colab": {
   "collapsed_sections": [],
   "name": "Waste classification with SVM.ipynb",
   "provenance": []
  },
  "kernelspec": {
   "display_name": "Python 3",
   "language": "python",
   "name": "python3"
  },
  "language_info": {
   "codemirror_mode": {
    "name": "ipython",
    "version": 3
   },
   "file_extension": ".py",
   "mimetype": "text/x-python",
   "name": "python",
   "nbconvert_exporter": "python",
   "pygments_lexer": "ipython3",
   "version": "3.7.4"
  }
 },
 "nbformat": 4,
 "nbformat_minor": 1
}
