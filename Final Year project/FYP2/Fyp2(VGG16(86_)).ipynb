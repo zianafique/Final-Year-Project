{
  "nbformat": 4,
  "nbformat_minor": 0,
  "metadata": {
    "colab": {
      "name": "Fyp2(VGG16(86%)).ipynb",
      "provenance": [],
      "collapsed_sections": []
    },
    "kernelspec": {
      "name": "python3",
      "display_name": "Python 3"
    },
    "accelerator": "GPU"
  },
  "cells": [
    {
      "cell_type": "code",
      "metadata": {
        "colab": {
          "base_uri": "https://localhost:8080/"
        },
        "id": "ibzAgOEsUnJN",
        "outputId": "fbd91270-cded-4cae-b9db-3e11fe8c5122"
      },
      "source": [
        "from google.colab import drive\n",
        "drive.mount('/content/drive')"
      ],
      "execution_count": null,
      "outputs": [
        {
          "output_type": "stream",
          "text": [
            "Mounted at /content/drive\n"
          ],
          "name": "stdout"
        }
      ]
    },
    {
      "cell_type": "code",
      "metadata": {
        "colab": {
          "base_uri": "https://localhost:8080/"
        },
        "id": "Uj-DmLq6E58R",
        "outputId": "77aa032e-e1eb-47bf-d39a-851ac2365ff8"
      },
      "source": [
        "!nvidia-smi"
      ],
      "execution_count": null,
      "outputs": [
        {
          "output_type": "stream",
          "text": [
            "Wed Nov 25 11:28:57 2020       \n",
            "+-----------------------------------------------------------------------------+\n",
            "| NVIDIA-SMI 455.38       Driver Version: 418.67       CUDA Version: 10.1     |\n",
            "|-------------------------------+----------------------+----------------------+\n",
            "| GPU  Name        Persistence-M| Bus-Id        Disp.A | Volatile Uncorr. ECC |\n",
            "| Fan  Temp  Perf  Pwr:Usage/Cap|         Memory-Usage | GPU-Util  Compute M. |\n",
            "|                               |                      |               MIG M. |\n",
            "|===============================+======================+======================|\n",
            "|   0  Tesla P100-PCIE...  Off  | 00000000:00:04.0 Off |                    0 |\n",
            "| N/A   33C    P0    25W / 250W |      0MiB / 16280MiB |      0%      Default |\n",
            "|                               |                      |                 ERR! |\n",
            "+-------------------------------+----------------------+----------------------+\n",
            "                                                                               \n",
            "+-----------------------------------------------------------------------------+\n",
            "| Processes:                                                                  |\n",
            "|  GPU   GI   CI        PID   Type   Process name                  GPU Memory |\n",
            "|        ID   ID                                                   Usage      |\n",
            "|=============================================================================|\n",
            "|  No running processes found                                                 |\n",
            "+-----------------------------------------------------------------------------+\n"
          ],
          "name": "stdout"
        }
      ]
    },
    {
      "cell_type": "code",
      "metadata": {
        "id": "OVDwFAnyFxUB"
      },
      "source": [
        "\n",
        "import os\n",
        "import random\n",
        "from shutil import copyfile"
      ],
      "execution_count": null,
      "outputs": []
    },
    {
      "cell_type": "code",
      "metadata": {
        "id": "La7NbDD8F1HI"
      },
      "source": [
        "\n",
        "import numpy as np\n",
        "import pandas as pd\n",
        "import matplotlib.pyplot as plt\n",
        "import seaborn as sns\n",
        "from matplotlib.image import imread\n",
        "import pathlib"
      ],
      "execution_count": null,
      "outputs": []
    },
    {
      "cell_type": "code",
      "metadata": {
        "colab": {
          "base_uri": "https://localhost:8080/",
          "height": 499
        },
        "id": "auJrmssfF5Oe",
        "outputId": "fb31ae0e-3266-423a-d888-2277f7230ace"
      },
      "source": [
        "image_folder = ['cardboard', 'ewaste', 'glass', 'metal', 'paper','plastic','trash']\n",
        "nimgs = {}\n",
        "for i in image_folder:\n",
        "    nimages = len(os.listdir('/content/drive/MyDrive/dataset_resized/training/'+i+'/'))\n",
        "    nimgs[i]=nimages\n",
        "plt.figure(figsize=(10, 8))\n",
        "plt.bar(range(len(nimgs)), list(nimgs.values()), align='center')\n",
        "plt.xticks(range(len(nimgs)), list(nimgs.keys()))\n",
        "plt.title('Distribution of different classes of Dataset')\n",
        "plt.show()"
      ],
      "execution_count": null,
      "outputs": [
        {
          "output_type": "display_data",
          "data": {
            "image/png": "[encoded data removed]",
            "text/plain": [
              "<Figure size 720x576 with 1 Axes>"
            ]
          },
          "metadata": {
            "tags": [],
            "needs_background": "light"
          }
        }
      ]
    },
    {
      "cell_type": "code",
      "metadata": {
        "id": "p7Fso443Jjsi"
      },
      "source": [
        "import os\n",
        "import matplotlib.pyplot as plt\n",
        "from tensorflow.keras.optimizers import Adam\n",
        "from tensorflow.keras.preprocessing.image import ImageDataGenerator\n",
        "\n",
        "from tensorflow.keras.layers import Dropout, Flatten, Dense, BatchNormalization\n",
        "\n",
        "from tensorflow.keras.callbacks import EarlyStopping, ReduceLROnPlateau\n",
        "from tensorflow.keras.callbacks import ModelCheckpoint"
      ],
      "execution_count": null,
      "outputs": []
    },
    {
      "cell_type": "code",
      "metadata": {
        "id": "YW2lOEamJn7X"
      },
      "source": [
        "from tensorflow.keras.models import Model\n",
        "from tensorflow.keras.applications.vgg16 import VGG16, preprocess_input"
      ],
      "execution_count": null,
      "outputs": []
    },
    {
      "cell_type": "code",
      "metadata": {
        "id": "I7eOtFflJsdv"
      },
      "source": [
        "img_width=256; img_height=256\n",
        "batch_size=8"
      ],
      "execution_count": null,
      "outputs": []
    },
    {
      "cell_type": "code",
      "metadata": {
        "id": "ldXznEQTJv-Y"
      },
      "source": [
        "TRAINING_DIR = '/content/drive/MyDrive/dataset_resized/training'\n",
        "train_datagen = ImageDataGenerator(preprocessing_function=preprocess_input,\n",
        "                                   rotation_range=30,\n",
        "                                   zoom_range=0.4,\n",
        "                                   horizontal_flip=True\n",
        "                                   )\n"
      ],
      "execution_count": null,
      "outputs": []
    },
    {
      "cell_type": "code",
      "metadata": {
        "colab": {
          "base_uri": "https://localhost:8080/"
        },
        "id": "7GEfFnvcJ94B",
        "outputId": "f959a0f2-2ff2-4652-ba64-4b131d395a78"
      },
      "source": [
        "train_generator = train_datagen.flow_from_directory(TRAINING_DIR,\n",
        "                                                    batch_size=batch_size,\n",
        "                                                    class_mode='categorical',\n",
        "                                                    target_size=(img_height, img_width))"
      ],
      "execution_count": null,
      "outputs": [
        {
          "output_type": "stream",
          "text": [
            "Found 2414 images belonging to 7 classes.\n"
          ],
          "name": "stdout"
        }
      ]
    },
    {
      "cell_type": "code",
      "metadata": {
        "id": "INdLydGTKLrh"
      },
      "source": [
        "VALIDATION_DIR = '/content/drive/MyDrive/dataset_resized/testing'\n",
        "\n",
        "validation_datagen = ImageDataGenerator(preprocessing_function=preprocess_input)"
      ],
      "execution_count": null,
      "outputs": []
    },
    {
      "cell_type": "code",
      "metadata": {
        "colab": {
          "base_uri": "https://localhost:8080/"
        },
        "id": "fphqY6-eKP6x",
        "outputId": "e5978bee-b0b4-472c-cbf9-8bc570551ae1"
      },
      "source": [
        "validation_generator = validation_datagen.flow_from_directory(VALIDATION_DIR,\n",
        "                                                              batch_size=batch_size,\n",
        "                                                              class_mode='categorical',\n",
        "                                                              target_size=(img_height, img_width)\n",
        "                                                             )"
      ],
      "execution_count": null,
      "outputs": [
        {
          "output_type": "stream",
          "text": [
            "Found 608 images belonging to 7 classes.\n"
          ],
          "name": "stdout"
        }
      ]
    },
    {
      "cell_type": "code",
      "metadata": {
        "id": "jbzaljhyKTpb"
      },
      "source": [
        "callbacks = EarlyStopping(monitor='val_loss', patience=4, verbose=1, mode='auto')\n",
        "best_model = ModelCheckpoint('VGG16.h5', monitor='val_acc', verbose = 1, save_best_only = True)\n",
        "#reduce_lr = ReduceLROnPlateau(patience=5, monitor='val_acc', factor=0.1, min_lr=0.0000001, mode='auto', verbose=1)"
      ],
      "execution_count": null,
      "outputs": []
    },
    {
      "cell_type": "code",
      "metadata": {
        "colab": {
          "base_uri": "https://localhost:8080/"
        },
        "id": "eleSwqO6KXhT",
        "outputId": "0dcbb3f0-669b-4bde-fd26-bf4416261441"
      },
      "source": [
        "\n",
        "vgg16_base = VGG16(include_top=False, \n",
        "                   input_tensor=None, input_shape=(img_height, img_width, 3))"
      ],
      "execution_count": null,
      "outputs": [
        {
          "output_type": "stream",
          "text": [
            "Downloading data from https://storage.googleapis.com/tensorflow/keras-applications/vgg16/vgg16_weights_tf_dim_ordering_tf_kernels_notop.h5\n",
            "58892288/58889256 [==============================] - 3s 0us/step\n"
          ],
          "name": "stdout"
        }
      ]
    },
    {
      "cell_type": "code",
      "metadata": {
        "colab": {
          "base_uri": "https://localhost:8080/"
        },
        "id": "FJvznpDEKosy",
        "outputId": "9d4a6800-9245-4757-9ab8-7518dbdb3dfb"
      },
      "source": [
        "print('Adding new layers...')\n",
        "output = vgg16_base.get_layer(index = -1).output  \n",
        "output = Flatten()(output)\n",
        "# let's add a fully-connected layer\n",
        "output = Dense(1024,activation = \"relu\")(output)\n",
        "output = BatchNormalization()(output)\n",
        "output = Dropout(0.2)(output)\n",
        "output = Dense(1024,activation = \"relu\")(output)\n",
        "output = BatchNormalization()(output)\n",
        "output = Dropout(0.2)(output)\n",
        "output = Dense(7, activation='softmax')(output)\n",
        "print('New layers added!')"
      ],
      "execution_count": null,
      "outputs": [
        {
          "output_type": "stream",
          "text": [
            "Adding new layers...\n",
            "New layers added!\n"
          ],
          "name": "stdout"
        }
      ]
    },
    {
      "cell_type": "code",
      "metadata": {
        "colab": {
          "base_uri": "https://localhost:8080/"
        },
        "id": "gbgUlh3YKrPC",
        "outputId": "1db15264-ef91-428f-872b-065f22197729"
      },
      "source": [
        "vgg16_model = Model(vgg16_base.input, output)\n",
        "for layer in vgg16_model.layers[:-7]:\n",
        "    layer.trainable = False\n",
        "vgg16_model.summary()"
      ],
      "execution_count": null,
      "outputs": [
        {
          "output_type": "stream",
          "text": [
            "Model: \"functional_1\"\n",
            "_________________________________________________________________\n",
            "Layer (type)                 Output Shape              Param #   \n",
            "=================================================================\n",
            "input_1 (InputLayer)         [(None, 256, 256, 3)]     0         \n",
            "_________________________________________________________________\n",
            "block1_conv1 (Conv2D)        (None, 256, 256, 64)      1792      \n",
            "_________________________________________________________________\n",
            "block1_conv2 (Conv2D)        (None, 256, 256, 64)      36928     \n",
            "_________________________________________________________________\n",
            "block1_pool (MaxPooling2D)   (None, 128, 128, 64)      0         \n",
            "_________________________________________________________________\n",
            "block2_conv1 (Conv2D)        (None, 128, 128, 128)     73856     \n",
            "_________________________________________________________________\n",
            "block2_conv2 (Conv2D)        (None, 128, 128, 128)     147584    \n",
            "_________________________________________________________________\n",
            "block2_pool (MaxPooling2D)   (None, 64, 64, 128)       0         \n",
            "_________________________________________________________________\n",
            "block3_conv1 (Conv2D)        (None, 64, 64, 256)       295168    \n",
            "_________________________________________________________________\n",
            "block3_conv2 (Conv2D)        (None, 64, 64, 256)       590080    \n",
            "_________________________________________________________________\n",
            "block3_conv3 (Conv2D)        (None, 64, 64, 256)       590080    \n",
            "_________________________________________________________________\n",
            "block3_pool (MaxPooling2D)   (None, 32, 32, 256)       0         \n",
            "_________________________________________________________________\n",
            "block4_conv1 (Conv2D)        (None, 32, 32, 512)       1180160   \n",
            "_________________________________________________________________\n",
            "block4_conv2 (Conv2D)        (None, 32, 32, 512)       2359808   \n",
            "_________________________________________________________________\n",
            "block4_conv3 (Conv2D)        (None, 32, 32, 512)       2359808   \n",
            "_________________________________________________________________\n",
            "block4_pool (MaxPooling2D)   (None, 16, 16, 512)       0         \n",
            "_________________________________________________________________\n",
            "block5_conv1 (Conv2D)        (None, 16, 16, 512)       2359808   \n",
            "_________________________________________________________________\n",
            "block5_conv2 (Conv2D)        (None, 16, 16, 512)       2359808   \n",
            "_________________________________________________________________\n",
            "block5_conv3 (Conv2D)        (None, 16, 16, 512)       2359808   \n",
            "_________________________________________________________________\n",
            "block5_pool (MaxPooling2D)   (None, 8, 8, 512)         0         \n",
            "_________________________________________________________________\n",
            "flatten (Flatten)            (None, 32768)             0         \n",
            "_________________________________________________________________\n",
            "dense (Dense)                (None, 1024)              33555456  \n",
            "_________________________________________________________________\n",
            "batch_normalization (BatchNo (None, 1024)              4096      \n",
            "_________________________________________________________________\n",
            "dropout (Dropout)            (None, 1024)              0         \n",
            "_________________________________________________________________\n",
            "dense_1 (Dense)              (None, 1024)              1049600   \n",
            "_________________________________________________________________\n",
            "batch_normalization_1 (Batch (None, 1024)              4096      \n",
            "_________________________________________________________________\n",
            "dropout_1 (Dropout)          (None, 1024)              0         \n",
            "_________________________________________________________________\n",
            "dense_2 (Dense)              (None, 7)                 7175      \n",
            "=================================================================\n",
            "Total params: 49,335,111\n",
            "Trainable params: 34,616,327\n",
            "Non-trainable params: 14,718,784\n",
            "_________________________________________________________________\n"
          ],
          "name": "stdout"
        }
      ]
    },
    {
      "cell_type": "code",
      "metadata": {
        "colab": {
          "base_uri": "https://localhost:8080/"
        },
        "id": "25KmyGdUMLJc",
        "outputId": "7d40fc28-598c-45f0-cf9a-d8845a4337e7"
      },
      "source": [
        "# We can evaluate the model right now to see how it does before training it on our new images\n",
        "initial_epochs = 3\n",
        "validation_steps=32\n",
        "\n",
        "loss0,accuracy0 = vgg16_model.evaluate(train_generator, steps = validation_steps)"
      ],
      "execution_count": null,
      "outputs": [
        {
          "output_type": "stream",
          "text": [
            "32/32 [==============================] - 127s 4s/step - loss: 10.0033 - accuracy: 0.1562\n"
          ],
          "name": "stdout"
        }
      ]
    },
    {
      "cell_type": "code",
      "metadata": {
        "id": "2EHvS4TyK5b6"
      },
      "source": [
        "vgg16_model.compile(optimizer='Adam', loss='categorical_crossentropy',metrics =['accuracy'])"
      ],
      "execution_count": null,
      "outputs": []
    },
    {
      "cell_type": "code",
      "metadata": {
        "id": "BOy3e8dOPNbs"
      },
      "source": [
        "import numpy as np\n",
        "from datetime import datetime\n",
        "import time\n",
        "#from sklearn import tree\n",
        "#from sklearn.preprocessing import normalize, scale\n",
        "from sklearn.metrics import accuracy_score\n",
        "fmt = '%H:%M:%S'\n",
        "def get_current_time():\n",
        "    time.ctime()\n",
        "    return time.strftime(fmt)\n",
        "first = get_current_time()"
      ],
      "execution_count": null,
      "outputs": []
    },
    {
      "cell_type": "code",
      "metadata": {
        "colab": {
          "base_uri": "https://localhost:8080/"
        },
        "id": "UnCWNkyKK-Wq",
        "outputId": "52479ed3-3971-4c67-c161-539fc67b2948"
      },
      "source": [
        "history = vgg16_model.fit_generator(train_generator,\n",
        "                              epochs=30,\n",
        "                              verbose=1,\n",
        "                              validation_data=validation_generator,\n",
        "                              callbacks = [callbacks, best_model]\n",
        "                              )"
      ],
      "execution_count": null,
      "outputs": [
        {
          "output_type": "stream",
          "text": [
            "WARNING:tensorflow:From <ipython-input-22-47d6a4b39773>:5: Model.fit_generator (from tensorflow.python.keras.engine.training) is deprecated and will be removed in a future version.\n",
            "Instructions for updating:\n",
            "Please use Model.fit, which supports generators.\n",
            "Epoch 1/30\n",
            "302/302 [==============================] - ETA: 0s - loss: 1.4660 - accuracy: 0.6118WARNING:tensorflow:Can save best model only with val_acc available, skipping.\n",
            "302/302 [==============================] - 1472s 5s/step - loss: 1.4660 - accuracy: 0.6118 - val_loss: 1.1690 - val_accuracy: 0.7007\n",
            "Epoch 2/30\n",
            "302/302 [==============================] - ETA: 0s - loss: 0.8770 - accuracy: 0.7374WARNING:tensorflow:Can save best model only with val_acc available, skipping.\n",
            "302/302 [==============================] - 58s 191ms/step - loss: 0.8770 - accuracy: 0.7374 - val_loss: 0.8464 - val_accuracy: 0.7895\n",
            "Epoch 3/30\n",
            "302/302 [==============================] - ETA: 0s - loss: 0.7538 - accuracy: 0.7676WARNING:tensorflow:Can save best model only with val_acc available, skipping.\n",
            "302/302 [==============================] - 58s 193ms/step - loss: 0.7538 - accuracy: 0.7676 - val_loss: 0.5902 - val_accuracy: 0.8306\n",
            "Epoch 4/30\n",
            "302/302 [==============================] - ETA: 0s - loss: 0.5769 - accuracy: 0.8036WARNING:tensorflow:Can save best model only with val_acc available, skipping.\n",
            "302/302 [==============================] - 58s 191ms/step - loss: 0.5769 - accuracy: 0.8036 - val_loss: 0.6034 - val_accuracy: 0.8421\n",
            "Epoch 5/30\n",
            "302/302 [==============================] - ETA: 0s - loss: 0.5329 - accuracy: 0.8244WARNING:tensorflow:Can save best model only with val_acc available, skipping.\n",
            "302/302 [==============================] - 58s 190ms/step - loss: 0.5329 - accuracy: 0.8244 - val_loss: 0.6413 - val_accuracy: 0.8454\n",
            "Epoch 6/30\n",
            "302/302 [==============================] - ETA: 0s - loss: 0.5406 - accuracy: 0.8161WARNING:tensorflow:Can save best model only with val_acc available, skipping.\n",
            "302/302 [==============================] - 57s 190ms/step - loss: 0.5406 - accuracy: 0.8161 - val_loss: 0.6749 - val_accuracy: 0.8191\n",
            "Epoch 7/30\n",
            "302/302 [==============================] - ETA: 0s - loss: 0.4784 - accuracy: 0.8401WARNING:tensorflow:Can save best model only with val_acc available, skipping.\n",
            "302/302 [==============================] - 57s 189ms/step - loss: 0.4784 - accuracy: 0.8401 - val_loss: 0.5702 - val_accuracy: 0.8388\n",
            "Epoch 8/30\n",
            "302/302 [==============================] - ETA: 0s - loss: 0.4316 - accuracy: 0.8608WARNING:tensorflow:Can save best model only with val_acc available, skipping.\n",
            "302/302 [==============================] - 57s 190ms/step - loss: 0.4316 - accuracy: 0.8608 - val_loss: 0.6288 - val_accuracy: 0.8339\n",
            "Epoch 9/30\n",
            "302/302 [==============================] - ETA: 0s - loss: 0.3696 - accuracy: 0.8790WARNING:tensorflow:Can save best model only with val_acc available, skipping.\n",
            "302/302 [==============================] - 58s 193ms/step - loss: 0.3696 - accuracy: 0.8790 - val_loss: 0.6492 - val_accuracy: 0.8405\n",
            "Epoch 10/30\n",
            "302/302 [==============================] - ETA: 0s - loss: 0.3958 - accuracy: 0.8633WARNING:tensorflow:Can save best model only with val_acc available, skipping.\n",
            "302/302 [==============================] - 57s 188ms/step - loss: 0.3958 - accuracy: 0.8633 - val_loss: 0.5393 - val_accuracy: 0.8454\n",
            "Epoch 11/30\n",
            "302/302 [==============================] - ETA: 0s - loss: 0.4030 - accuracy: 0.8770WARNING:tensorflow:Can save best model only with val_acc available, skipping.\n",
            "302/302 [==============================] - 57s 189ms/step - loss: 0.4030 - accuracy: 0.8770 - val_loss: 0.4992 - val_accuracy: 0.8635\n",
            "Epoch 12/30\n",
            "302/302 [==============================] - ETA: 0s - loss: 0.3623 - accuracy: 0.8745WARNING:tensorflow:Can save best model only with val_acc available, skipping.\n",
            "302/302 [==============================] - 57s 190ms/step - loss: 0.3623 - accuracy: 0.8745 - val_loss: 0.5475 - val_accuracy: 0.8651\n",
            "Epoch 13/30\n",
            "302/302 [==============================] - ETA: 0s - loss: 0.3355 - accuracy: 0.8898WARNING:tensorflow:Can save best model only with val_acc available, skipping.\n",
            "302/302 [==============================] - 57s 190ms/step - loss: 0.3355 - accuracy: 0.8898 - val_loss: 0.5511 - val_accuracy: 0.8618\n",
            "Epoch 14/30\n",
            "302/302 [==============================] - ETA: 0s - loss: 0.3764 - accuracy: 0.8778WARNING:tensorflow:Can save best model only with val_acc available, skipping.\n",
            "302/302 [==============================] - 58s 192ms/step - loss: 0.3764 - accuracy: 0.8778 - val_loss: 0.4834 - val_accuracy: 0.8569\n",
            "Epoch 15/30\n",
            "302/302 [==============================] - ETA: 0s - loss: 0.3355 - accuracy: 0.8832WARNING:tensorflow:Can save best model only with val_acc available, skipping.\n",
            "302/302 [==============================] - 59s 194ms/step - loss: 0.3355 - accuracy: 0.8832 - val_loss: 0.5386 - val_accuracy: 0.8618\n",
            "Epoch 16/30\n",
            "302/302 [==============================] - ETA: 0s - loss: 0.3035 - accuracy: 0.9018WARNING:tensorflow:Can save best model only with val_acc available, skipping.\n",
            "302/302 [==============================] - 60s 200ms/step - loss: 0.3035 - accuracy: 0.9018 - val_loss: 0.4133 - val_accuracy: 0.8832\n",
            "Epoch 17/30\n",
            "302/302 [==============================] - ETA: 0s - loss: 0.2969 - accuracy: 0.9043WARNING:tensorflow:Can save best model only with val_acc available, skipping.\n",
            "302/302 [==============================] - 58s 191ms/step - loss: 0.2969 - accuracy: 0.9043 - val_loss: 0.4740 - val_accuracy: 0.8766\n",
            "Epoch 18/30\n",
            "302/302 [==============================] - ETA: 0s - loss: 0.2770 - accuracy: 0.9072WARNING:tensorflow:Can save best model only with val_acc available, skipping.\n",
            "302/302 [==============================] - 58s 191ms/step - loss: 0.2770 - accuracy: 0.9072 - val_loss: 0.5028 - val_accuracy: 0.8651\n",
            "Epoch 19/30\n",
            "302/302 [==============================] - ETA: 0s - loss: 0.3205 - accuracy: 0.8981WARNING:tensorflow:Can save best model only with val_acc available, skipping.\n",
            "302/302 [==============================] - 58s 193ms/step - loss: 0.3205 - accuracy: 0.8981 - val_loss: 0.4307 - val_accuracy: 0.8651\n",
            "Epoch 20/30\n",
            "302/302 [==============================] - ETA: 0s - loss: 0.2689 - accuracy: 0.9064WARNING:tensorflow:Can save best model only with val_acc available, skipping.\n",
            "302/302 [==============================] - 58s 193ms/step - loss: 0.2689 - accuracy: 0.9064 - val_loss: 0.5107 - val_accuracy: 0.8701\n",
            "Epoch 00020: early stopping\n"
          ],
          "name": "stdout"
        }
      ]
    },
    {
      "cell_type": "code",
      "metadata": {
        "colab": {
          "base_uri": "https://localhost:8080/"
        },
        "id": "-QTpw064U7vQ",
        "outputId": "d982935c-e38f-4d09-99c9-702b73a789f7"
      },
      "source": [
        "second = get_current_time()\n",
        "print(\"Time taken to train(sec):\", datetime.strptime(second, fmt) - datetime.strptime(first, fmt))"
      ],
      "execution_count": null,
      "outputs": [
        {
          "output_type": "stream",
          "text": [
            "Time taken to train(sec): 0:43:19\n"
          ],
          "name": "stdout"
        }
      ]
    },
    {
      "cell_type": "code",
      "metadata": {
        "colab": {
          "base_uri": "https://localhost:8080/"
        },
        "id": "KPeA6qUEU887",
        "outputId": "4ca48779-f319-4ce3-a49d-d80d816d733d"
      },
      "source": [
        "vgg16_model.evaluate(validation_generator)"
      ],
      "execution_count": null,
      "outputs": [
        {
          "output_type": "stream",
          "text": [
            "76/76 [==============================] - 7s 87ms/step - loss: 0.5107 - accuracy: 0.8701\n"
          ],
          "name": "stdout"
        },
        {
          "output_type": "execute_result",
          "data": {
            "text/plain": [
              "[0.5106815695762634, 0.8700658082962036]"
            ]
          },
          "metadata": {
            "tags": []
          },
          "execution_count": 24
        }
      ]
    },
    {
      "cell_type": "code",
      "metadata": {
        "colab": {
          "base_uri": "https://localhost:8080/"
        },
        "id": "ai6tS3tbVsDF",
        "outputId": "feaae4d5-7eab-4d89-836d-9bf1282e06e2"
      },
      "source": [
        "vgg16_model.metrics_names"
      ],
      "execution_count": null,
      "outputs": [
        {
          "output_type": "execute_result",
          "data": {
            "text/plain": [
              "['loss', 'accuracy']"
            ]
          },
          "metadata": {
            "tags": []
          },
          "execution_count": 25
        }
      ]
    },
    {
      "cell_type": "code",
      "metadata": {
        "id": "vPWyAr_DVb5t"
      },
      "source": [
        "target_dir = '/content/drive/MyDrive/dataset_resized/target_dir'\n",
        "if not os.path.exists(target_dir):\n",
        "  os.mkdir(target_dir)\n",
        "vgg16_model.save(target_dir + 'vgg16_model_256.h5')\n",
        "vgg16_model.save_weights(target_dir + 'vgg16_weights_256.h5')\n"
      ],
      "execution_count": null,
      "outputs": []
    },
    {
      "cell_type": "code",
      "metadata": {
        "colab": {
          "base_uri": "https://localhost:8080/",
          "height": 312
        },
        "id": "9zl0MI_mWTwp",
        "outputId": "f6d27b48-7687-4241-fcce-38bfa475760a"
      },
      "source": [
        "import matplotlib.pyplot as plt\n",
        "acc = history.history['accuracy']\n",
        "val_acc = history.history['val_accuracy']\n",
        "loss = history.history['loss']\n",
        "val_loss = history.history['val_loss']\n",
        "\n",
        "epochs = range(len(acc))\n",
        "\n",
        "plt.plot(epochs, acc, 'r', label='Training accuracy')\n",
        "plt.plot(epochs, val_acc, 'b', label='Validation accuracy')\n",
        "plt.xlabel('Epoch')\n",
        "plt.ylabel('Accuracy')\n",
        "plt.title('Training and validation accuracy')\n",
        "plt.legend(loc=0)\n",
        "plt.figure()\n",
        "\n",
        "\n",
        "plt.show()\n"
      ],
      "execution_count": null,
      "outputs": [
        {
          "output_type": "display_data",
          "data": {
            "image/png": "[encoded data removed]",
            "text/plain": [
              "<Figure size 432x288 with 1 Axes>"
            ]
          },
          "metadata": {
            "tags": [],
            "needs_background": "light"
          }
        },
        {
          "output_type": "display_data",
          "data": {
            "text/plain": [
              "<Figure size 432x288 with 0 Axes>"
            ]
          },
          "metadata": {
            "tags": []
          }
        }
      ]
    },
    {
      "cell_type": "code",
      "metadata": {
        "colab": {
          "base_uri": "https://localhost:8080/",
          "height": 447
        },
        "id": "516aad07W9Pd",
        "outputId": "df138242-087f-4d5d-dc02-488ff87cc062"
      },
      "source": [
        "fig = plt.figure(figsize=(20,10))\n",
        "plt.plot(epochs, acc, 'r', label=\"Training Accuracy\")\n",
        "plt.plot(epochs, val_acc, 'b', label=\"Validation Accuracy\")\n",
        "plt.xlabel('Epoch')\n",
        "plt.ylabel('Accuracy')\n",
        "plt.title('Training and validation accuracy')\n",
        "plt.legend(loc=0)\n",
        "plt.show()\n"
      ],
      "execution_count": null,
      "outputs": [
        {
          "output_type": "display_data",
          "data": {
            "image/png": "[encoded data removed]",
            "text/plain": [
              "<Figure size 1440x720 with 1 Axes>"
            ]
          },
          "metadata": {
            "tags": [],
            "needs_background": "light"
          }
        }
      ]
    },
    {
      "cell_type": "code",
      "metadata": {
        "colab": {
          "base_uri": "https://localhost:8080/",
          "height": 467
        },
        "id": "2ydpEUcsXaRo",
        "outputId": "744488ed-7f66-4990-9a65-05fe3f16a9a9"
      },
      "source": [
        "fig2 = plt.figure(figsize=(20,10))\n",
        "plt.plot(epochs, loss, 'r', label=\"Training Loss\")\n",
        "plt.plot(epochs, val_loss, 'b', label=\"Validation Loss\")\n",
        "plt.legend(loc='upper right')\n",
        "plt.xlabel('Epoch')\n",
        "plt.ylabel('Loss')\n",
        "plt.title('Training and validation loss')"
      ],
      "execution_count": null,
      "outputs": [
        {
          "output_type": "execute_result",
          "data": {
            "text/plain": [
              "Text(0.5, 1.0, 'Training and validation loss')"
            ]
          },
          "metadata": {
            "tags": []
          },
          "execution_count": 28
        },
        {
          "output_type": "display_data",
          "data": {
            "image/png": "[encoded data removed]",
            "text/plain": [
              "<Figure size 1440x720 with 1 Axes>"
            ]
          },
          "metadata": {
            "tags": [],
            "needs_background": "light"
          }
        }
      ]
    },
    {
      "cell_type": "code",
      "metadata": {
        "id": "wMXpFP0UWDSy"
      },
      "source": [
        "from tensorflow.python.keras.applications import vgg16\n",
        "from tensorflow.python.keras.applications.vgg16 import preprocess_input\n",
        "from tensorflow.python.keras.preprocessing.image import ImageDataGenerator, load_img\n",
        "from tensorflow.python.keras.callbacks import ModelCheckpoint\n",
        "from tensorflow.python.keras import layers, models, Model, optimizers"
      ],
      "execution_count": null,
      "outputs": []
    },
    {
      "cell_type": "code",
      "metadata": {
        "id": "OOQQbjdTV5m4"
      },
      "source": [
        "model = models.load_model(\"VGG16.h5\")"
      ],
      "execution_count": null,
      "outputs": []
    },
    {
      "cell_type": "code",
      "metadata": {
        "id": "WqWvO5eyXNQL"
      },
      "source": [
        "from sklearn.metrics import classification_report, confusion_matrix, accuracy_score"
      ],
      "execution_count": null,
      "outputs": []
    },
    {
      "cell_type": "code",
      "metadata": {
        "id": "C4lKje8sWlXL"
      },
      "source": [
        "import itertools\n",
        "def plot_confusion_matrix(cm, classes, figname,normalize=False,title='Confusion matrix',cmap=plt.cm.Blues):\n",
        "    \n",
        "    \"\"\"\n",
        "    This function prints and plots the confusion matrix.\n",
        "    Normalization can be applied by setting `normalize=True`.\n",
        "    \"\"\"\n",
        "    import numpy as np\n",
        "    import matplotlib.pyplot as plt\n",
        "    import itertools\n",
        "    if normalize:\n",
        "        cm = cm.astype('float') / cm.sum(axis=1)[:, np.newaxis]\n",
        "        print('Normalized confusion matrix')\n",
        "    else:\n",
        "        print('Confusion matrix, without normalization')\n",
        "    plt.figure(figsize=(8,10))\n",
        "\n",
        "    plt.figure(figsize=(8,8))\n",
        "    plt.imshow(cm, interpolation='nearest', cmap=cmap)\n",
        "    plt.title(title)\n",
        "    #plt.colorbar()\n",
        "    tick_marks = np.arange(len(classes))\n",
        "    plt.xticks(tick_marks, classes, rotation=90)\n",
        "    plt.yticks(tick_marks, classes)\n",
        "    fmt = '.2f' if normalize else 'd'\n",
        "    thresh = cm.max() / 2.\n",
        "    for i, j in itertools.product(range(cm.shape[0]), range(cm.shape[1])):\n",
        "        plt.text(j, i, format(cm[i, j], fmt),\n",
        "                 horizontalalignment='center',\n",
        "                color='white' if cm[i, j] > thresh else 'black')\n",
        "    plt.ylabel('True label')\n",
        "    plt.xlabel('Predicted label')\n",
        "    plt.tight_layout()\n",
        "    plt.savefig(figname)\n"
      ],
      "execution_count": null,
      "outputs": []
    },
    {
      "cell_type": "code",
      "metadata": {
        "colab": {
          "base_uri": "https://localhost:8080/",
          "height": 619
        },
        "id": "CLNACXFPWoWO",
        "outputId": "b8d95b60-d5c6-40a3-f9b5-99e72fbb28cc"
      },
      "source": [
        "Y_pred = vgg16_model.predict_generator(validation_generator)\n",
        "y_pred = np.argmax(Y_pred, axis=1)\n",
        "\n",
        "cm = confusion_matrix(validation_generator.classes, y_pred)\n",
        "plot_confusion_matrix(cm, classes = image_folder, title='Confusion Matrix', normalize=False, figname = 'Confusion_matrix_concrete.jpg')"
      ],
      "execution_count": null,
      "outputs": [
        {
          "output_type": "stream",
          "text": [
            "Confusion matrix, without normalization\n"
          ],
          "name": "stdout"
        },
        {
          "output_type": "display_data",
          "data": {
            "text/plain": [
              "<Figure size 576x720 with 0 Axes>"
            ]
          },
          "metadata": {
            "tags": []
          }
        },
        {
          "output_type": "display_data",
          "data": {
            "image/png": "[encoded data removed]",
            "text/plain": [
              "<Figure size 576x576 with 1 Axes>"
            ]
          },
          "metadata": {
            "tags": [],
            "needs_background": "light"
          }
        }
      ]
    },
    {
      "cell_type": "code",
      "metadata": {
        "id": "H99ig77tjTkH"
      },
      "source": [
        "y_pred = vgg16_model.predict(validation_generator)"
      ],
      "execution_count": null,
      "outputs": []
    },
    {
      "cell_type": "code",
      "metadata": {
        "colab": {
          "base_uri": "https://localhost:8080/"
        },
        "id": "59wtfZ6FjgLb",
        "outputId": "8113e622-2cbc-4a8b-e9d3-99500200558f"
      },
      "source": [
        "import numpy as np\n",
        "y_pred = np.argmax(y_pred, axis=1)\n",
        "y_pred"
      ],
      "execution_count": null,
      "outputs": [
        {
          "output_type": "execute_result",
          "data": {
            "text/plain": [
              "array([5, 3, 0, 4, 2, 0, 1, 2, 4, 3, 1, 5, 2, 5, 0, 3, 6, 2, 4, 5, 3, 1,\n",
              "       2, 1, 4, 3, 5, 5, 6, 1, 0, 2, 1, 3, 0, 4, 1, 1, 2, 4, 2, 2, 4, 6,\n",
              "       1, 1, 3, 0, 4, 5, 0, 2, 2, 4, 4, 3, 3, 1, 1, 1, 5, 3, 3, 3, 2, 4,\n",
              "       0, 4, 5, 3, 5, 3, 4, 4, 1, 2, 4, 4, 0, 0, 5, 6, 4, 5, 1, 1, 3, 4,\n",
              "       3, 2, 3, 4, 4, 2, 4, 4, 1, 2, 2, 4, 4, 5, 0, 2, 4, 4, 4, 1, 3, 0,\n",
              "       3, 3, 1, 0, 2, 6, 5, 2, 2, 4, 5, 3, 2, 1, 0, 1, 2, 1, 5, 3, 4, 3,\n",
              "       1, 4, 0, 3, 3, 6, 3, 2, 3, 4, 4, 2, 5, 3, 1, 3, 2, 4, 1, 5, 4, 0,\n",
              "       3, 1, 2, 0, 3, 2, 6, 1, 3, 0, 2, 2, 5, 0, 2, 6, 5, 5, 5, 2, 0, 4,\n",
              "       2, 1, 1, 2, 3, 5, 4, 0, 1, 2, 2, 1, 3, 0, 4, 4, 5, 1, 1, 4, 0, 0,\n",
              "       5, 1, 5, 3, 5, 5, 6, 1, 0, 4, 1, 3, 6, 3, 0, 3, 6, 3, 4, 5, 3, 5,\n",
              "       5, 3, 1, 3, 2, 3, 4, 3, 2, 5, 0, 4, 2, 3, 5, 3, 2, 4, 4, 3, 3, 4,\n",
              "       3, 4, 4, 1, 2, 3, 3, 1, 2, 5, 5, 3, 3, 3, 5, 3, 0, 3, 2, 1, 4, 4,\n",
              "       4, 1, 1, 0, 5, 5, 0, 0, 3, 1, 2, 0, 5, 1, 1, 6, 2, 1, 3, 0, 2, 4,\n",
              "       1, 5, 2, 1, 4, 1, 4, 0, 5, 4, 0, 5, 5, 5, 1, 4, 0, 2, 3, 3, 3, 3,\n",
              "       4, 2, 2, 4, 4, 4, 4, 4, 6, 4, 5, 2, 3, 4, 1, 5, 2, 4, 1, 4, 4, 2,\n",
              "       3, 0, 3, 0, 1, 3, 4, 4, 4, 3, 1, 2, 4, 3, 4, 4, 5, 1, 4, 2, 3, 0,\n",
              "       5, 1, 2, 2, 4, 3, 6, 0, 2, 4, 0, 1, 5, 1, 3, 0, 1, 5, 4, 2, 5, 4,\n",
              "       4, 5, 4, 4, 1, 5, 5, 0, 4, 0, 1, 1, 3, 1, 5, 5, 4, 2, 4, 5, 6, 0,\n",
              "       2, 4, 4, 2, 1, 4, 4, 0, 1, 0, 3, 6, 0, 5, 0, 1, 0, 3, 6, 2, 5, 4,\n",
              "       3, 5, 4, 1, 1, 3, 3, 1, 4, 1, 6, 2, 1, 2, 6, 2, 1, 2, 3, 2, 1, 0,\n",
              "       1, 1, 2, 5, 3, 1, 3, 6, 1, 1, 4, 0, 1, 4, 1, 5, 4, 1, 1, 0, 4, 1,\n",
              "       1, 3, 4, 0, 2, 4, 4, 1, 6, 1, 5, 1, 1, 4, 4, 3, 0, 4, 5, 1, 4, 2,\n",
              "       6, 3, 0, 5, 4, 4, 3, 5, 1, 5, 2, 5, 4, 3, 3, 0, 0, 1, 4, 1, 2, 1,\n",
              "       0, 1, 3, 5, 3, 3, 4, 4, 1, 5, 3, 1, 6, 2, 2, 3, 5, 2, 3, 1, 1, 6,\n",
              "       0, 2, 3, 3, 5, 5, 2, 0, 1, 4, 4, 5, 3, 6, 0, 6, 1, 4, 0, 2, 2, 4,\n",
              "       5, 2, 4, 1, 0, 6, 4, 0, 4, 1, 4, 5, 5, 3, 1, 1, 4, 5, 1, 4, 4, 1,\n",
              "       5, 1, 4, 0, 6, 2, 3, 1, 4, 5, 4, 2, 3, 2, 2, 1, 4, 4, 1, 4, 6, 3,\n",
              "       5, 2, 4, 4, 4, 4, 4, 2, 4, 5, 3, 5, 6, 1])"
            ]
          },
          "metadata": {
            "tags": []
          },
          "execution_count": 39
        }
      ]
    },
    {
      "cell_type": "code",
      "metadata": {
        "colab": {
          "base_uri": "https://localhost:8080/"
        },
        "id": "vSFk0j2MZ4dR",
        "outputId": "5d0c05fe-de0e-4d40-d97d-80bb96987116"
      },
      "source": [
        "validation_generator.class_indices"
      ],
      "execution_count": null,
      "outputs": [
        {
          "output_type": "execute_result",
          "data": {
            "text/plain": [
              "{'cardboard': 0,\n",
              " 'ewaste': 1,\n",
              " 'glass': 2,\n",
              " 'metal': 3,\n",
              " 'paper': 4,\n",
              " 'plastic': 5,\n",
              " 'trash': 6}"
            ]
          },
          "metadata": {
            "tags": []
          },
          "execution_count": 40
        }
      ]
    },
    {
      "cell_type": "code",
      "metadata": {
        "colab": {
          "resources": {
            "http://localhost:8080/nbextensions/google.colab/files.js": {
              "data": "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",
              "ok": true,
              "headers": [
                [
                  "content-type",
                  "application/javascript"
                ]
              ],
              "status": 200,
              "status_text": ""
            }
          },
          "base_uri": "https://localhost:8080/",
          "height": 106
        },
        "id": "lgrxsg6DaqPc",
        "outputId": "98c648f0-7e6f-4869-ccb5-443a30de02d7"
      },
      "source": [
        "import numpy as np\n",
        "from google.colab import files\n",
        "from keras.preprocessing import image\n",
        "\n",
        "uploaded = files.upload()\n",
        "\n",
        "for fn in uploaded.keys():\n",
        " \n",
        "  # predicting images\n",
        "  path = fn\n",
        "  img = image.load_img(path, target_size=(256,256))\n",
        "  x = image.img_to_array(img)\n",
        "  x = np.expand_dims(x, axis=0)\n",
        "\n",
        "  images = np.vstack([x])\n",
        "  classes = vgg16_model.predict(images,batch_size=8)\n",
        "  classes = np.argmax(classes, axis=1)\n",
        "  print(fn)\n",
        "  print(classes)"
      ],
      "execution_count": null,
      "outputs": [
        {
          "output_type": "display_data",
          "data": {
            "text/html": [
              "\n",
              "     <input type=\"file\" id=\"files-83195908-3a18-4311-918f-1f6e7da4cfd3\" name=\"files[]\" multiple disabled\n",
              "        style=\"border:none\" />\n",
              "     <output id=\"result-83195908-3a18-4311-918f-1f6e7da4cfd3\">\n",
              "      Upload widget is only available when the cell has been executed in the\n",
              "      current browser session. Please rerun this cell to enable.\n",
              "      </output>\n",
              "      <script src=\"/nbextensions/google.colab/files.js\"></script> "
            ],
            "text/plain": [
              "<IPython.core.display.HTML object>"
            ]
          },
          "metadata": {
            "tags": []
          }
        },
        {
          "output_type": "stream",
          "text": [
            "Saving plastic21.jpg to plastic21.jpg\n",
            "plastic21.jpg\n",
            "[5]\n"
          ],
          "name": "stdout"
        }
      ]
    },
    {
      "cell_type": "code",
      "metadata": {
        "id": "cVsesSYQYQPk"
      },
      "source": [
        ""
      ],
      "execution_count": null,
      "outputs": []
    },
    {
      "cell_type": "code",
      "metadata": {
        "id": "3udVEVxFnia8"
      },
      "source": [
        "import itertools"
      ],
      "execution_count": null,
      "outputs": []
    },
    {
      "cell_type": "code",
      "metadata": {
        "id": "ecxURXDeldqS"
      },
      "source": [
        "\n",
        "def plot_confusion_matrix(cm, classes, normalize=True, title='Confusion matrix', cmap=plt.cm.Blues):\n",
        "    \"\"\"\n",
        "    This function prints and plots the confusion matrix.\n",
        "    Normalization can be applied by setting `normalize=True`.\n",
        "    \"\"\"\n",
        "    plt.figure(figsize=(8,10))\n",
        "\n",
        "    plt.imshow(cm, interpolation='nearest', cmap=cmap)\n",
        "    plt.title(title)\n",
        "    plt.colorbar()\n",
        "\n",
        "    tick_marks = np.arange(len(classes))\n",
        "    plt.xticks(tick_marks, classes, rotation=45)\n",
        "    plt.yticks(tick_marks, classes)\n",
        "\n",
        "    if normalize:\n",
        "        cm = cm.astype('float') / cm.sum(axis=1)[:, np.newaxis]\n",
        "        cm = np.around(cm, decimals=2)\n",
        "        cm[np.isnan(cm)] = 0.0\n",
        "        print(\"Normalized confusion matrix\")\n",
        "    else:\n",
        "        print('Confusion matrix, without normalization')\n",
        "    thresh = cm.max() / 2.\n",
        "    for i, j in itertools.product(range(cm.shape[0]), range(cm.shape[1])):\n",
        "        plt.text(j, i, cm[i, j],\n",
        "                 horizontalalignment=\"center\",\n",
        "                 color=\"white\" if cm[i, j] > thresh else \"black\")\n",
        "    plt.tight_layout()\n",
        "    plt.ylabel('True label')\n",
        "    plt.xlabel('Predicted label')"
      ],
      "execution_count": null,
      "outputs": []
    },
    {
      "cell_type": "code",
      "metadata": {
        "colab": {
          "base_uri": "https://localhost:8080/"
        },
        "id": "lpc3Zm4zm2jT",
        "outputId": "31bc0ab1-ed54-4b90-e954-6eb4343056ba"
      },
      "source": [
        "target_names = []\n",
        "for key in validation_generator.class_indices:\n",
        "    target_names.append(key)\n",
        "\n",
        "print(target_names)"
      ],
      "execution_count": null,
      "outputs": [
        {
          "output_type": "stream",
          "text": [
            "['cardboard', 'ewaste', 'glass', 'metal', 'paper', 'plastic', 'trash']\n"
          ],
          "name": "stdout"
        }
      ]
    },
    {
      "cell_type": "code",
      "metadata": {
        "colab": {
          "base_uri": "https://localhost:8080/",
          "height": 1000
        },
        "id": "gs_nRyEFnBRA",
        "outputId": "6819d099-4ee6-44cc-ad8e-1bf4e6cc97e1"
      },
      "source": [
        "Y_pred = vgg16_model.predict_generator(validation_generator)\n",
        "y_pred = np.argmax(Y_pred, axis=1)\n",
        "print('Confusion Matrix')\n",
        "cm = confusion_matrix(validation_generator.classes, y_pred)\n",
        "plot_confusion_matrix(cm, target_names, title='Confusion Matrix')\n",
        "\n",
        "#Print Classification Report\n",
        "print('Classification Report')\n",
        "print(classification_report(validation_generator.classes, y_pred, target_names=target_names))\n"
      ],
      "execution_count": null,
      "outputs": [
        {
          "output_type": "stream",
          "text": [
            "Confusion Matrix\n",
            "Normalized confusion matrix\n",
            "Classification Report\n",
            "              precision    recall  f1-score   support\n",
            "\n",
            "   cardboard       0.14      0.11      0.12        81\n",
            "      ewaste       0.20      0.22      0.21       100\n",
            "       glass       0.23      0.20      0.21       101\n",
            "       metal       0.12      0.15      0.13        82\n",
            "       paper       0.15      0.16      0.15       119\n",
            "     plastic       0.19      0.16      0.18        97\n",
            "       trash       0.07      0.07      0.07        28\n",
            "\n",
            "    accuracy                           0.16       608\n",
            "   macro avg       0.16      0.15      0.15       608\n",
            "weighted avg       0.17      0.16      0.17       608\n",
            "\n"
          ],
          "name": "stdout"
        },
        {
          "output_type": "display_data",
          "data": {
            "image/png": "[encoded data removed]",
            "text/plain": [
              "<Figure size 576x720 with 2 Axes>"
            ]
          },
          "metadata": {
            "tags": [],
            "needs_background": "light"
          }
        }
      ]
    },
    {
      "cell_type": "code",
      "metadata": {
        "colab": {
          "base_uri": "https://localhost:8080/"
        },
        "id": "1o2PU9RwYoyl",
        "outputId": "dd2d82bc-8f38-4651-c448-e091cfca1d24"
      },
      "source": [
        "accuracy = accuracy_score(validation_generator.classes, y_pred)\n",
        "print(\"Accuracy in test set: %0.1f%% \" % (accuracy * 100))"
      ],
      "execution_count": null,
      "outputs": [
        {
          "output_type": "stream",
          "text": [
            "Accuracy in test set: 14.6% \n"
          ],
          "name": "stdout"
        }
      ]
    },
    {
      "cell_type": "code",
      "metadata": {
        "id": "ONXl8iYMY3eJ"
      },
      "source": [
        "Y_pred = vgg16_model.predict_generator(validation_generator)\n",
        "y_pred = np.argmax(Y_pred, axis=1)\n",
        "\n",
        "img_nr = 0\n",
        "for subdir, dirs, files in os.walk('/content/drive/MyDrive/dataset_resized (1)/testing/paper'):\n",
        "    for file in files:\n",
        "        img_file = subdir + '/' + file\n",
        "        image = load_img(img_file,target_size=(img_height,img_width))\n",
        "        pred_emotion = image_folder[y_pred[img_nr]]\n",
        "        real_emotion = image_folder[validation_generator.classes[img_nr]]\n",
        "        plt.figure()\n",
        "        plt.title('Predicted: ' + pred_emotion + '\\n' + 'Actual:      ' + real_emotion)\n",
        "        plt.imshow(image)\n",
        "        img_nr = img_nr +1"
      ],
      "execution_count": null,
      "outputs": []
    }
  ]
}